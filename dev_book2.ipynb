{
 "cells": [
  {
   "cell_type": "markdown",
   "metadata": {},
   "source": [
    "## My algorithm\n",
    "\n",
    "1. make the smallest valid polygon (a triangle)\n",
    "2. randomly draw a valid point (x,y) position from combination of possible x, y lists\n",
    "3. if the random vertex is not intersecting with the original polygon:\n",
    "    * iterate over the list of vertexe's in the original polygon, and see if there is a location it can be placed in the order, which will create a simple polygon (with more sides). If so, place it.\n",
    "4. repeat step 3 until you have reached a desired number of vertex's in the polygon (or until a try limit is reached).\n",
    "\n",
    "5. Step 3 will have to be extended with logic to test the linear slopes between vertex's also, to ensure no repeated slope is added...\n",
    "\n",
    "Note, valid simple polygons could be made from points which intersect. This is probably key to making the smallest possible polygons actually... \n",
    "\n",
    "* No repeating points in columns, rows, or angles \n",
    "\n",
    "`n = 5\n",
    "rows = list(range(n))\n",
    "columns = list(range(n))`\n",
    "\n",
    "* Create coordinates for a starting polygon (a triangle)\n",
    "`cs, rows, columns = random_triangle(rows, columns)`\n",
    "\n",
    "* Check slopes between given coordinates do not repeat\n",
    "`check_slopes(cs)`\n",
    "\n",
    "* choose random vertex in n x n and see if it can be added between any coordinates to make a simple polygon\n",
    "\n",
    "* ensure no duplicate slopes: if so, throw away last change, and try a new random vertex.\n",
    "\n",
    "* stop when you have reached vertex number = n\n",
    "\n",
    "* find area of final shape"
   ]
  },
  {
   "cell_type": "code",
   "execution_count": 2,
   "metadata": {
    "collapsed": true
   },
   "outputs": [],
   "source": [
    "import copy\n",
    "import numpy as np\n",
    "from random import choice\n",
    "import shapely.geometry as geometry\n",
    "#import geopandas as gpd\n",
    "#import matplotlib.pyplot as plt\n",
    "%matplotlib inline"
   ]
  },
  {
   "cell_type": "code",
   "execution_count": null,
   "metadata": {
    "collapsed": false
   },
   "outputs": [],
   "source": [
    "def random_vertex(rows, columns):\n",
    "    \"\"\"Return a random vertex from an avaiable list of choices,\n",
    "    and, after selecting one, remove it from future selection.\"\"\"\n",
    "    random_row = choice(rows)\n",
    "    tmp_rows = copy.deepcopy(rows) \n",
    "    tmp_rows.remove(random_row)\n",
    "    random_column = choice(columns)\n",
    "    tmp_columns = copy.deepcopy(columns)\n",
    "    tmp_columns.remove(random_column)\n",
    "    return (random_row, random_column), tmp_rows, tmp_columns\n",
    "\n",
    "\n",
    "def random_triangle(rows, columns):\n",
    "    \"\"\"Obtain coordinates for a starting shape from a grid of n x n,\n",
    "    for the simplest valid ploygon: a triangle\"\"\"\n",
    "    area = 0.0\n",
    "    i = 0\n",
    "    while area <= 0.0:\n",
    "        i += 1\n",
    "        if i > 10:\n",
    "            raise AssertionError(\"Halted as I couldn't find valid triangle in 10 attempts.\")\n",
    "        coordinates = []\n",
    "        while len(coordinates) < 3:\n",
    "            vertex, rows, columns = random_vertex(rows, columns)\n",
    "            coordinates.append(vertex)\n",
    "            coordinates = list(set(coordinates)) # Ensure unique points only\n",
    "        tmp_poly = geometry.Polygon(coordinates)\n",
    "        area = tmp_poly.area\n",
    "    return coordinates, rows, columns\n",
    "\n",
    "\n",
    "def slope_of_vertexes(vertex1, vertex2):\n",
    "    \"\"\"Slope between two xy pairs, calculated as y2-y1/x2-x1\"\"\"\n",
    "    try:\n",
    "        slope = (vertex2[1] - vertex1[1])/(vertex2[0] - vertex1[0])\n",
    "    except ZeroDivisionError:\n",
    "        slope = 0.0\n",
    "    #print(\"Slope between {0} and {1} is {2}\".format(vertex1, vertex2, slope))\n",
    "    return slope\n",
    "\n",
    "\n",
    "def check_slopes(coordinates):\n",
    "    \"\"\"Return True if the slopes calculated from a given list of ordered coordinates\n",
    "    contain no repeats, otherwise return false.\"\"\"\n",
    "    slope_list = []\n",
    "    for i, vertex in enumerate(coordinates):\n",
    "        #vertex1 = starting_triangle[i-1]\n",
    "        slope_list.append(slope_of_vertexes(coordinates[i-1] ,vertex))\n",
    "    assert len(coordinates) == len(slope_list), \"slopes were not equal to coordinates\"\n",
    "    if len(set(slope_list)) < len(slope_list):\n",
    "        #print(\"Repeated angle present in polygon\")\n",
    "        return False\n",
    "    else:\n",
    "        #print(\"Valid: No repeated angles in polygon\")\n",
    "        return True"
   ]
  },
  {
   "cell_type": "code",
   "execution_count": null,
   "metadata": {
    "collapsed": false
   },
   "outputs": [],
   "source": [
    "# n = 5\n",
    "# rows = list(range(n))\n",
    "# columns = list(range(n))\n",
    "\n",
    "# cs, rows, columns = random_triangle(rows, columns)\n",
    "# p = geometry.Polygon(cs)\n",
    "# print(\"Polygon area: \", p.area)\n",
    "# print(\"Good angles? \", check_slopes(cs))\n",
    "# p\n"
   ]
  },
  {
   "cell_type": "code",
   "execution_count": null,
   "metadata": {
    "collapsed": false
   },
   "outputs": [],
   "source": [
    "def grow_a_polygon(n, print_status=False):\n",
    "    \"\"\"Note, no point keeping track of attempted vertexs, because as the\n",
    "    shape develops, a previously invalid vertex may become valid again.\n",
    "    Only worth keeping track of last tried vertex?\"\"\"\n",
    "    rows = list(range(1, n+1))\n",
    "    columns = list(range(1, n+1))\n",
    "    if print_status:\n",
    "        print('row, col check:', len(rows), len(columns))\n",
    "        print(\"rows:\", rows)\n",
    "        print(\"columns:\", columns)\n",
    "    # Try and draw a valid triangle to start from\n",
    "    coordinates = None\n",
    "    kk = 0\n",
    "    while not coordinates:\n",
    "        try:\n",
    "            coordinates, rows, columns = random_triangle(rows, columns)\n",
    "        except:\n",
    "            kk += 1\n",
    "            if kk > 10:\n",
    "                raise AttributeError(\"Unable to find a triangle in 10 attempts\")\n",
    "    if print_status:\n",
    "        print('row, col check:', len(rows), len(columns))\n",
    "        print(\"rows:\", rows)\n",
    "        print(\"columns:\", columns)\n",
    "    jj = 0\n",
    "    while len(coordinates) < n:\n",
    "        if print_status:\n",
    "            print(\"\\nTop of while head:\")\n",
    "            print(coordinates)\n",
    "        jj += 1\n",
    "        if jj > 20:\n",
    "            if print_status:\n",
    "                print(\"Not finished in 20 rolls\")\n",
    "            return None\n",
    "        if print_status:\n",
    "            print('poly size:',len(coordinates))\n",
    "        tmp_vertex, tmp_rows, tmp_columns = random_vertex(rows, columns)\n",
    "        if print_status:\n",
    "            print('rows left:',rows,'\\n','columns left:',columns)\n",
    "            print('   trying,', tmp_vertex)\n",
    "        valid_shape = False\n",
    "        no_slope_repeats = False\n",
    "        shape_found = False\n",
    "        i = 0\n",
    "        while not shape_found:\n",
    "            if print_status:\n",
    "                print(\"Shape found? \", shape_found)\n",
    "                print(\"Trying to place vertex. Attempt {0} of {1}\".format(i, len(coordinates)))\n",
    "            tmp_coordinates = copy.deepcopy(coordinates)\n",
    "            tmp_coordinates.insert(i, tmp_vertex)\n",
    "            tmp_poly = geometry.Polygon(tmp_coordinates)\n",
    "            is_valid_shape = tmp_poly.is_valid\n",
    "            print(\"Breaking\")\n",
    "            return tmp_poly\n",
    "            no_slope_repeats = check_slopes(tmp_coordinates)\n",
    "            if is_valid_shape and no_slope_repeats:\n",
    "                if print_status:\n",
    "                    print(\"Valid new shape - growing polygon!\")\n",
    "                rows = copy.deepcopy(tmp_rows)\n",
    "                columns = copy.deepcopy(tmp_columns)\n",
    "                coordinates = copy.deepcopy(tmp_coordinates)\n",
    "                shape_found = True\n",
    "            if i > len(coordinates):\n",
    "                if print_status:\n",
    "                    print(\"No valid shape could be made from \", tmp_vertex)\n",
    "                shape_found = True # Bail out of while loop\n",
    "            else:\n",
    "                i += 1\n",
    "    return coordinates"
   ]
  },
  {
   "cell_type": "code",
   "execution_count": null,
   "metadata": {
    "collapsed": false,
    "scrolled": true
   },
   "outputs": [],
   "source": [
    "cs = None\n",
    "n = 23\n",
    "while not cs:\n",
    "    cs = grow_a_polygon(n)\n",
    "    \n",
    "if cs:\n",
    "    print(\"Good slopes?\", check_slopes(cs))\n",
    "    poly = geometry.Polygon(cs)\n",
    "    print(\"Area:\", poly.area)\n",
    "    poly\n",
    "else:\n",
    "    print(\"Polygon not created\")\n",
    "poly"
   ]
  },
  {
   "cell_type": "code",
   "execution_count": null,
   "metadata": {
    "collapsed": false
   },
   "outputs": [],
   "source": [
    "cs.is_valid"
   ]
  },
  {
   "cell_type": "code",
   "execution_count": null,
   "metadata": {
    "collapsed": false
   },
   "outputs": [],
   "source": [
    "cs.is_valid"
   ]
  },
  {
   "cell_type": "code",
   "execution_count": null,
   "metadata": {
    "collapsed": true
   },
   "outputs": [],
   "source": [
    "a = cs.is_valid"
   ]
  },
  {
   "cell_type": "code",
   "execution_count": null,
   "metadata": {
    "collapsed": false
   },
   "outputs": [],
   "source": [
    "cs.is_simple"
   ]
  },
  {
   "cell_type": "code",
   "execution_count": null,
   "metadata": {
    "collapsed": false
   },
   "outputs": [],
   "source": [
    "cs"
   ]
  },
  {
   "cell_type": "code",
   "execution_count": null,
   "metadata": {
    "collapsed": false
   },
   "outputs": [],
   "source": [
    "geometry.__file__"
   ]
  },
  {
   "cell_type": "code",
   "execution_count": 3,
   "metadata": {
    "collapsed": true
   },
   "outputs": [],
   "source": [
    "c = (22, 18), (16, 5), (18, 8), (21, 14), (23, 19), (20, 21), (15, 16), (19, 17), (6, 6), (5, 9), (3, 10), (10, 20), (7, 13), (11, 22), (4, 23), (1, 12), (2, 7), (9, 2), (12, 3), (8, 4), (14, 11), (13, 1), (17, 15)"
   ]
  },
  {
   "cell_type": "code",
   "execution_count": 4,
   "metadata": {
    "collapsed": false
   },
   "outputs": [
    {
     "data": {
      "image/svg+xml": [
       "<svg xmlns=\"http://www.w3.org/2000/svg\" xmlns:xlink=\"http://www.w3.org/1999/xlink\" width=\"100.0\" height=\"100.0\" viewBox=\"0.12 0.12 23.759999999999998 23.759999999999998\" preserveAspectRatio=\"xMinYMin meet\"><g transform=\"matrix(1,0,0,-1,0,24.0)\"><path fill-rule=\"evenodd\" fill=\"#66cc99\" stroke=\"#555555\" stroke-width=\"0.47519999999999996\" opacity=\"0.6\" d=\"M 22.0,18.0 L 16.0,5.0 L 18.0,8.0 L 21.0,14.0 L 23.0,19.0 L 20.0,21.0 L 15.0,16.0 L 19.0,17.0 L 6.0,6.0 L 5.0,9.0 L 3.0,10.0 L 10.0,20.0 L 7.0,13.0 L 11.0,22.0 L 4.0,23.0 L 1.0,12.0 L 2.0,7.0 L 9.0,2.0 L 12.0,3.0 L 8.0,4.0 L 14.0,11.0 L 13.0,1.0 L 17.0,15.0 L 22.0,18.0 z\" /></g></svg>"
      ],
      "text/plain": [
       "<shapely.geometry.polygon.Polygon at 0x104950be0>"
      ]
     },
     "execution_count": 4,
     "metadata": {},
     "output_type": "execute_result"
    }
   ],
   "source": [
    "geometry.Polygon(c)"
   ]
  },
  {
   "cell_type": "code",
   "execution_count": 28,
   "metadata": {
    "collapsed": false
   },
   "outputs": [
    {
     "data": {
      "image/svg+xml": [
       "<svg xmlns=\"http://www.w3.org/2000/svg\" xmlns:xlink=\"http://www.w3.org/1999/xlink\" width=\"100.0\" height=\"100.0\" viewBox=\"0.12 0.12 23.759999999999998 23.759999999999998\" preserveAspectRatio=\"xMinYMin meet\"><g transform=\"matrix(1,0,0,-1,0,24.0)\"><path fill-rule=\"evenodd\" fill=\"#66cc99\" stroke=\"#555555\" stroke-width=\"0.47519999999999996\" opacity=\"0.6\" d=\"M 19.0,3.0 L 23.0,20.0 L 22.0,1.0 L 4.0,2.0 L 3.0,6.0 L 2.0,18.0 L 9.0,9.0 L 8.0,10.0 L 10.0,7.0 L 13.0,12.0 L 15.0,17.0 L 11.0,16.0 L 12.0,13.0 L 5.0,19.0 L 6.0,14.0 L 1.0,21.0 L 7.0,22.0 L 20.0,23.0 L 17.0,11.0 L 16.0,8.0 L 21.0,15.0 L 18.0,4.0 L 14.0,5.0 L 19.0,3.0 z\" /></g></svg>"
      ],
      "text/plain": [
       "<shapely.geometry.polygon.Polygon at 0x10d33fe48>"
      ]
     },
     "execution_count": 28,
     "metadata": {},
     "output_type": "execute_result"
    }
   ],
   "source": [
    "cm = (19, 3), (23, 20), (22, 1), (4, 2), (3, 6), (2, 18), (9, 9), (8, 10), (10, 7), (13, 12), (15, 17), (11, 16), (12, 13), (5, 19), (6, 14), (1, 21), (7, 22), (20, 23), (17, 11), (16, 8), (21, 15), (18, 4), (14, 5)\n",
    "geometry.Polygon(cm)"
   ]
  },
  {
   "cell_type": "code",
   "execution_count": 29,
   "metadata": {
    "collapsed": false
   },
   "outputs": [
    {
     "data": {
      "text/plain": [
       "309.5"
      ]
     },
     "execution_count": 29,
     "metadata": {},
     "output_type": "execute_result"
    }
   ],
   "source": [
    "geometry.Polygon(cm).area"
   ]
  },
  {
   "cell_type": "code",
   "execution_count": 25,
   "metadata": {
    "collapsed": true
   },
   "outputs": [],
   "source": [
    "from tinydb import TinyDB, where\n",
    "\n",
    "db = TinyDB('db.json')"
   ]
  },
  {
   "cell_type": "code",
   "execution_count": null,
   "metadata": {
    "collapsed": false
   },
   "outputs": [],
   "source": []
  },
  {
   "cell_type": "code",
   "execution_count": 26,
   "metadata": {
    "collapsed": false
   },
   "outputs": [],
   "source": [
    "a = db.table()"
   ]
  },
  {
   "cell_type": "code",
   "execution_count": 27,
   "metadata": {
    "collapsed": false
   },
   "outputs": [
    {
     "data": {
      "text/plain": [
       "[]"
      ]
     },
     "execution_count": 27,
     "metadata": {},
     "output_type": "execute_result"
    }
   ],
   "source": [
    "a.all()"
   ]
  },
  {
   "cell_type": "code",
   "execution_count": null,
   "metadata": {
    "collapsed": true
   },
   "outputs": [],
   "source": []
  }
 ],
 "metadata": {
  "anaconda-cloud": {},
  "kernelspec": {
   "display_name": "Python [conda root]",
   "language": "python",
   "name": "conda-root-py"
  },
  "language_info": {
   "codemirror_mode": {
    "name": "ipython",
    "version": 3
   },
   "file_extension": ".py",
   "mimetype": "text/x-python",
   "name": "python",
   "nbconvert_exporter": "python",
   "pygments_lexer": "ipython3",
   "version": "3.5.2"
  }
 },
 "nbformat": 4,
 "nbformat_minor": 2
}
