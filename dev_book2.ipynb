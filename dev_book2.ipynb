{
 "cells": [
  {
   "cell_type": "markdown",
   "metadata": {},
   "source": [
    "## My algorithm\n",
    "\n",
    "1. make the smallest valid polygon (a triangle)\n",
    "2. randomly draw a valid point (x,y) position from combination of possible x, y lists\n",
    "3. if the random vertex is not intersecting with the original polygon:\n",
    "    * iterate over the list of vertexe's in the original polygon, and see if there is a location it can be placed in the order, which will create a simple polygon (with more sides). If so, place it.\n",
    "4. repeat step 3 until you have reached a desired number of vertex's in the polygon (or until a try limit is reached).\n",
    "\n",
    "5. Step 3 will have to be extended with logic to test the linear slopes between vertex's also, to ensure no repeated slope is added...\n",
    "\n",
    "Note, valid simple polygons could be made from points which intersect. This is probably key to making the smallest possible polygons actually... "
   ]
  },
  {
   "cell_type": "code",
   "execution_count": 1,
   "metadata": {
    "collapsed": true
   },
   "outputs": [],
   "source": [
    "import copy\n",
    "import numpy as np\n",
    "from random import choice\n",
    "import shapely.geometry as geometry\n",
    "#import geopandas as gpd\n",
    "#import matplotlib.pyplot as plt\n",
    "%matplotlib inline"
   ]
  },
  {
   "cell_type": "code",
   "execution_count": 2,
   "metadata": {
    "collapsed": false
   },
   "outputs": [],
   "source": [
    "def random_vertex(rows, columns):\n",
    "    \"\"\"Return a random vertex from an avaiable list of choices,\n",
    "    and, after selecting one, remove it from future selection.\"\"\"\n",
    "    random_row = choice(rows)\n",
    "    random_column = choice(columns)\n",
    "    rows.remove(random_row)\n",
    "    columns.remove(random_column)\n",
    "    return (random_row, random_column), rows, columns\n",
    "\n",
    "def random_triangle(rows, columns):\n",
    "    \"\"\"Obtain coordinates for a starting shape from a grid of n x n,\n",
    "    for the simplest valid ploygon: a triangle\"\"\"\n",
    "    area = 0.0\n",
    "    i = 0\n",
    "    while area <= 0.0:\n",
    "        i += 1\n",
    "        if i > 10:\n",
    "            raise AssertionError(\"Halted as I couldn't find valid triangle in 10 attempts.\")\n",
    "        coordinates = []\n",
    "        while len(coordinates) < 3:\n",
    "            vertex, rows, columns = random_vertex(rows, columns)\n",
    "            coordinates.append(vertex)\n",
    "            coordinates = list(set(coordinates)) # Ensure unique points only\n",
    "        tmp_poly = geometry.Polygon(coordinates)\n",
    "        area = tmp_poly.area\n",
    "    return coordinates, rows, columns"
   ]
  },
  {
   "cell_type": "code",
   "execution_count": 3,
   "metadata": {
    "collapsed": true
   },
   "outputs": [],
   "source": [
    "def slope_of_vertexes(vertex1, vertex2):\n",
    "    \"\"\"Slope between two xy pairs, calculated as y2-y1/x2-x1\"\"\"\n",
    "    slope = (vertex2[1] - vertex1[1])/(vertex2[0] - vertex1[0])\n",
    "    #print(\"Slope between {0} and {1} is {2}\".format(vertex1, vertex2, slope))\n",
    "    return slope\n",
    "\n",
    "def check_slopes(coordinates):\n",
    "    \"\"\"Return True if the slopes calculated from a given list of ordered coordinates\n",
    "    contain no repeats, otherwise return false.\"\"\"\n",
    "    slope_list = []\n",
    "    for i, vertex in enumerate(coordinates):\n",
    "        vertex1 = starting_triangle[i-1]\n",
    "        slope_list.append(slope_of_vertexes(coordinates[i-1] ,vertex))\n",
    "    assert len(coordinates) == len(slope_list), \"slopes were not equal to coordinates\"\n",
    "    if len(set(slope_list)) < len(slope_list):\n",
    "        #print(\"Repeated angle present in polygon\")\n",
    "        return False\n",
    "    else:\n",
    "        #print(\"Valid: No repeated angles in polygon\")\n",
    "        return True"
   ]
  },
  {
   "cell_type": "code",
   "execution_count": 4,
   "metadata": {
    "collapsed": false
   },
   "outputs": [
    {
     "name": "stdout",
     "output_type": "stream",
     "text": [
      "5.5\n"
     ]
    },
    {
     "data": {
      "image/svg+xml": [
       "<svg xmlns=\"http://www.w3.org/2000/svg\" xmlns:xlink=\"http://www.w3.org/1999/xlink\" width=\"100.0\" height=\"100.0\" viewBox=\"0.84 -0.16 3.3200000000000003 4.32\" preserveAspectRatio=\"xMinYMin meet\"><g transform=\"matrix(1,0,0,-1,0,4.0)\"><path fill-rule=\"evenodd\" fill=\"#66cc99\" stroke=\"#555555\" stroke-width=\"0.0864\" opacity=\"0.6\" d=\"M 1.0,4.0 L 2.0,0.0 L 4.0,3.0 L 1.0,4.0 z\" /></g></svg>"
      ],
      "text/plain": [
       "<shapely.geometry.polygon.Polygon at 0x10bd8a400>"
      ]
     },
     "execution_count": 4,
     "metadata": {},
     "output_type": "execute_result"
    }
   ],
   "source": [
    "n = 5\n",
    "rows = list(range(n))\n",
    "columns = list(range(n))\n",
    "\n",
    "cs, rows, columns = random_triangle(rows, columns)\n",
    "p = geometry.Polygon(cs)\n",
    "print(p.area)\n",
    "p"
   ]
  },
  {
   "cell_type": "code",
   "execution_count": 135,
   "metadata": {
    "collapsed": false
   },
   "outputs": [
    {
     "data": {
      "text/plain": [
       "True"
      ]
     },
     "execution_count": 135,
     "metadata": {},
     "output_type": "execute_result"
    }
   ],
   "source": [
    "# No repeating points in columns, rows, or angles \n",
    "\n",
    "n = 5\n",
    "rows = list(range(n))\n",
    "columns = list(range(n))\n",
    "\n",
    "#1. Create coordinates for a starting polygon (a triangle)\n",
    "cs, rows, columns = random_triangle(rows, columns)\n",
    "\n",
    "# 2. Check slopes between given coordinates do not repeat\n",
    "check_slopes(cs)\n",
    "\n",
    "# choose random vertex in n x n and see if it can be added between any coordinates to make a simple polygon\n",
    "\n",
    "# ensure no duplicate slopes: if so, throw away last change, and try a new random vertex.\n",
    "\n",
    "# stop when you have reached vertex number = n\n",
    "\n",
    "# find area of final shape"
   ]
  },
  {
   "cell_type": "code",
   "execution_count": 111,
   "metadata": {
    "collapsed": false
   },
   "outputs": [
    {
     "data": {
      "text/plain": [
       "[(0, 1), (4, 1), (1, 4)]"
      ]
     },
     "execution_count": 111,
     "metadata": {},
     "output_type": "execute_result"
    }
   ],
   "source": [
    "starting_triangle"
   ]
  },
  {
   "cell_type": "code",
   "execution_count": 202,
   "metadata": {
    "collapsed": false
   },
   "outputs": [
    {
     "name": "stdout",
     "output_type": "stream",
     "text": [
      "row, col check: 5 5\n",
      "row, col check: 2 2\n",
      "poly size: 3\n",
      "   trying, (1, 0) 1 1\n",
      "poly size: 4\n",
      "   trying, (3, 2) 0 0\n",
      "poly size: 4\n"
     ]
    },
    {
     "ename": "IndexError",
     "evalue": "Cannot choose from an empty sequence",
     "output_type": "error",
     "traceback": [
      "\u001b[0;31m---------------------------------------------------------------------------\u001b[0m",
      "\u001b[0;31mValueError\u001b[0m                                Traceback (most recent call last)",
      "\u001b[0;32m/Users/Ben/anaconda/lib/python3.5/random.py\u001b[0m in \u001b[0;36mchoice\u001b[0;34m(self, seq)\u001b[0m\n\u001b[1;32m    252\u001b[0m         \u001b[0;32mtry\u001b[0m\u001b[0;34m:\u001b[0m\u001b[0;34m\u001b[0m\u001b[0m\n\u001b[0;32m--> 253\u001b[0;31m             \u001b[0mi\u001b[0m \u001b[0;34m=\u001b[0m \u001b[0mself\u001b[0m\u001b[0;34m.\u001b[0m\u001b[0m_randbelow\u001b[0m\u001b[0;34m(\u001b[0m\u001b[0mlen\u001b[0m\u001b[0;34m(\u001b[0m\u001b[0mseq\u001b[0m\u001b[0;34m)\u001b[0m\u001b[0;34m)\u001b[0m\u001b[0;34m\u001b[0m\u001b[0m\n\u001b[0m\u001b[1;32m    254\u001b[0m         \u001b[0;32mexcept\u001b[0m \u001b[0mValueError\u001b[0m\u001b[0;34m:\u001b[0m\u001b[0;34m\u001b[0m\u001b[0m\n",
      "\u001b[0;32m/Users/Ben/anaconda/lib/python3.5/random.py\u001b[0m in \u001b[0;36m_randbelow\u001b[0;34m(self, n, int, maxsize, type, Method, BuiltinMethod)\u001b[0m\n\u001b[1;32m    229\u001b[0m             \u001b[0mk\u001b[0m \u001b[0;34m=\u001b[0m \u001b[0mn\u001b[0m\u001b[0;34m.\u001b[0m\u001b[0mbit_length\u001b[0m\u001b[0;34m(\u001b[0m\u001b[0;34m)\u001b[0m  \u001b[0;31m# don't use (n-1) here because n can be 1\u001b[0m\u001b[0;34m\u001b[0m\u001b[0m\n\u001b[0;32m--> 230\u001b[0;31m             \u001b[0mr\u001b[0m \u001b[0;34m=\u001b[0m \u001b[0mgetrandbits\u001b[0m\u001b[0;34m(\u001b[0m\u001b[0mk\u001b[0m\u001b[0;34m)\u001b[0m          \u001b[0;31m# 0 <= r < 2**k\u001b[0m\u001b[0;34m\u001b[0m\u001b[0m\n\u001b[0m\u001b[1;32m    231\u001b[0m             \u001b[0;32mwhile\u001b[0m \u001b[0mr\u001b[0m \u001b[0;34m>=\u001b[0m \u001b[0mn\u001b[0m\u001b[0;34m:\u001b[0m\u001b[0;34m\u001b[0m\u001b[0m\n",
      "\u001b[0;31mValueError\u001b[0m: number of bits must be greater than zero",
      "\nDuring handling of the above exception, another exception occurred:\n",
      "\u001b[0;31mIndexError\u001b[0m                                Traceback (most recent call last)",
      "\u001b[0;32m<ipython-input-202-a3eaac353708>\u001b[0m in \u001b[0;36m<module>\u001b[0;34m()\u001b[0m\n\u001b[1;32m     27\u001b[0m     \u001b[0;32mreturn\u001b[0m \u001b[0mcoordinates\u001b[0m\u001b[0;34m\u001b[0m\u001b[0m\n\u001b[1;32m     28\u001b[0m \u001b[0;34m\u001b[0m\u001b[0m\n\u001b[0;32m---> 29\u001b[0;31m \u001b[0mcs\u001b[0m \u001b[0;34m=\u001b[0m \u001b[0mgrow_a_polygon\u001b[0m\u001b[0;34m(\u001b[0m\u001b[0;36m5\u001b[0m\u001b[0;34m)\u001b[0m\u001b[0;34m\u001b[0m\u001b[0m\n\u001b[0m",
      "\u001b[0;32m<ipython-input-202-a3eaac353708>\u001b[0m in \u001b[0;36mgrow_a_polygon\u001b[0;34m(n)\u001b[0m\n\u001b[1;32m      7\u001b[0m     \u001b[0;32mwhile\u001b[0m \u001b[0mlen\u001b[0m\u001b[0;34m(\u001b[0m\u001b[0mcoordinates\u001b[0m\u001b[0;34m)\u001b[0m \u001b[0;34m<\u001b[0m \u001b[0mn\u001b[0m\u001b[0;34m:\u001b[0m\u001b[0;34m\u001b[0m\u001b[0m\n\u001b[1;32m      8\u001b[0m         \u001b[0mprint\u001b[0m\u001b[0;34m(\u001b[0m\u001b[0;34m'poly size:'\u001b[0m\u001b[0;34m,\u001b[0m\u001b[0mlen\u001b[0m\u001b[0;34m(\u001b[0m\u001b[0mcoordinates\u001b[0m\u001b[0;34m)\u001b[0m\u001b[0;34m)\u001b[0m\u001b[0;34m\u001b[0m\u001b[0m\n\u001b[0;32m----> 9\u001b[0;31m         \u001b[0mtmp_vert\u001b[0m\u001b[0;34m,\u001b[0m \u001b[0mtmp_rows\u001b[0m\u001b[0;34m,\u001b[0m \u001b[0mtmp_columns\u001b[0m \u001b[0;34m=\u001b[0m \u001b[0mrandom_vertex\u001b[0m\u001b[0;34m(\u001b[0m\u001b[0mrows\u001b[0m\u001b[0;34m,\u001b[0m \u001b[0mcolumns\u001b[0m\u001b[0;34m)\u001b[0m\u001b[0;34m\u001b[0m\u001b[0m\n\u001b[0m\u001b[1;32m     10\u001b[0m         \u001b[0mprint\u001b[0m\u001b[0;34m(\u001b[0m\u001b[0;34m'   trying,'\u001b[0m\u001b[0;34m,\u001b[0m \u001b[0mtmp_vert\u001b[0m\u001b[0;34m,\u001b[0m \u001b[0mlen\u001b[0m\u001b[0;34m(\u001b[0m\u001b[0mtmp_rows\u001b[0m\u001b[0;34m)\u001b[0m\u001b[0;34m,\u001b[0m \u001b[0mlen\u001b[0m\u001b[0;34m(\u001b[0m\u001b[0mtmp_columns\u001b[0m\u001b[0;34m)\u001b[0m\u001b[0;34m)\u001b[0m\u001b[0;34m\u001b[0m\u001b[0m\n\u001b[1;32m     11\u001b[0m         \u001b[0mvalid_shape\u001b[0m \u001b[0;34m=\u001b[0m \u001b[0;32mFalse\u001b[0m\u001b[0;34m\u001b[0m\u001b[0m\n",
      "\u001b[0;32m<ipython-input-121-dc12749ac7cd>\u001b[0m in \u001b[0;36mrandom_vertex\u001b[0;34m(rows, columns)\u001b[0m\n\u001b[1;32m      2\u001b[0m     \"\"\"Return a random vertex from an avaiable list of choices,\n\u001b[1;32m      3\u001b[0m     and, after selecting one, remove it from future selection.\"\"\"\n\u001b[0;32m----> 4\u001b[0;31m     \u001b[0mrandom_row\u001b[0m \u001b[0;34m=\u001b[0m \u001b[0mchoice\u001b[0m\u001b[0;34m(\u001b[0m\u001b[0mrows\u001b[0m\u001b[0;34m)\u001b[0m\u001b[0;34m\u001b[0m\u001b[0m\n\u001b[0m\u001b[1;32m      5\u001b[0m     \u001b[0mrandom_column\u001b[0m \u001b[0;34m=\u001b[0m \u001b[0mchoice\u001b[0m\u001b[0;34m(\u001b[0m\u001b[0mcolumns\u001b[0m\u001b[0;34m)\u001b[0m\u001b[0;34m\u001b[0m\u001b[0m\n\u001b[1;32m      6\u001b[0m     \u001b[0mrows\u001b[0m\u001b[0;34m.\u001b[0m\u001b[0mremove\u001b[0m\u001b[0;34m(\u001b[0m\u001b[0mrandom_row\u001b[0m\u001b[0;34m)\u001b[0m\u001b[0;34m\u001b[0m\u001b[0m\n",
      "\u001b[0;32m/Users/Ben/anaconda/lib/python3.5/random.py\u001b[0m in \u001b[0;36mchoice\u001b[0;34m(self, seq)\u001b[0m\n\u001b[1;32m    253\u001b[0m             \u001b[0mi\u001b[0m \u001b[0;34m=\u001b[0m \u001b[0mself\u001b[0m\u001b[0;34m.\u001b[0m\u001b[0m_randbelow\u001b[0m\u001b[0;34m(\u001b[0m\u001b[0mlen\u001b[0m\u001b[0;34m(\u001b[0m\u001b[0mseq\u001b[0m\u001b[0;34m)\u001b[0m\u001b[0;34m)\u001b[0m\u001b[0;34m\u001b[0m\u001b[0m\n\u001b[1;32m    254\u001b[0m         \u001b[0;32mexcept\u001b[0m \u001b[0mValueError\u001b[0m\u001b[0;34m:\u001b[0m\u001b[0;34m\u001b[0m\u001b[0m\n\u001b[0;32m--> 255\u001b[0;31m             \u001b[0;32mraise\u001b[0m \u001b[0mIndexError\u001b[0m\u001b[0;34m(\u001b[0m\u001b[0;34m'Cannot choose from an empty sequence'\u001b[0m\u001b[0;34m)\u001b[0m\u001b[0;34m\u001b[0m\u001b[0m\n\u001b[0m\u001b[1;32m    256\u001b[0m         \u001b[0;32mreturn\u001b[0m \u001b[0mseq\u001b[0m\u001b[0;34m[\u001b[0m\u001b[0mi\u001b[0m\u001b[0;34m]\u001b[0m\u001b[0;34m\u001b[0m\u001b[0m\n\u001b[1;32m    257\u001b[0m \u001b[0;34m\u001b[0m\u001b[0m\n",
      "\u001b[0;31mIndexError\u001b[0m: Cannot choose from an empty sequence"
     ]
    }
   ],
   "source": [
    "def grow_a_polygon(n):\n",
    "    rows = list(range(n))\n",
    "    columns = list(range(n))\n",
    "    print('row, col check:', len(rows), len(columns))\n",
    "    coordinates, rows, columns = random_triangle(rows, columns)\n",
    "    print('row, col check:', len(rows), len(columns))\n",
    "    while len(coordinates) < n:\n",
    "        print('poly size:',len(coordinates))\n",
    "        tmp_vert, tmp_rows, tmp_columns = random_vertex(rows, columns)\n",
    "        print('   trying,', tmp_vert, len(tmp_rows), len(tmp_columns))\n",
    "        valid_shape = False\n",
    "        no_slope_repeats = False\n",
    "        shape_found = False\n",
    "        i = 0\n",
    "        while i < len(cs) or not shape_found:\n",
    "            tmp_cs = copy.deepcopy(cs)\n",
    "            tmp_cs.insert(i, v)\n",
    "            tmp_p = geometry.Polygon(tmp_cs)\n",
    "            valid_shape = tmp_p.is_valid\n",
    "            no_slope_repeats = check_slopes(tmp_cs)\n",
    "            i += 1\n",
    "            if valid_shape and no_slope_repeats:\n",
    "                rows = tmp_rows\n",
    "                columns = tmp_columns\n",
    "                coordinates = tmp_cs\n",
    "                shape_found = True\n",
    "    return coordinates\n",
    "\n",
    "cs = []\n",
    "itry = 0\n",
    "while len(cs) < 5 or itry < 20:\n",
    "    try:\n",
    "        cs = grow_a_polygon(5)\n",
    "    except:\n",
    "        print(\"Didnt work...\")"
   ]
  },
  {
   "cell_type": "code",
   "execution_count": 168,
   "metadata": {
    "collapsed": false
   },
   "outputs": [
    {
     "name": "stdout",
     "output_type": "stream",
     "text": [
      "[(1, 0), (0, 3), (2, 1)]\n",
      "[(4, 2), (1, 0), (0, 3), (2, 1)]\n",
      "[(1, 0), (0, 3), (2, 1)]\n",
      "[(1, 0), (4, 2), (0, 3), (2, 1)]\n",
      "[(1, 0), (0, 3), (2, 1)]\n",
      "[(1, 0), (0, 3), (4, 2), (2, 1)]\n"
     ]
    }
   ],
   "source": [
    "# create c diffrent orders, inserting the random vertex at i-th position\n",
    "# in each one, and test if the new shape is valid:\n",
    "for i, c in enumerate(cs):\n",
    "    tmp_cs = copy.deepcopy(cs)\n",
    "    tmp_cs.insert(i, v)\n",
    "    print(tmp_cs)"
   ]
  },
  {
   "cell_type": "code",
   "execution_count": 169,
   "metadata": {
    "collapsed": false
   },
   "outputs": [],
   "source": [
    "tmp_p = geometry.Polygon(tmp_cs)"
   ]
  },
  {
   "cell_type": "code",
   "execution_count": 174,
   "metadata": {
    "collapsed": false
   },
   "outputs": [
    {
     "data": {
      "text/plain": [
       "True"
      ]
     },
     "execution_count": 174,
     "metadata": {},
     "output_type": "execute_result"
    }
   ],
   "source": [
    "tmp_p.is_valid and check_slopes(tmp_cs)"
   ]
  },
  {
   "cell_type": "code",
   "execution_count": 8,
   "metadata": {
    "collapsed": false
   },
   "outputs": [
    {
     "ename": "SyntaxError",
     "evalue": "unexpected EOF while parsing (<ipython-input-8-8b9dc8a38e38>, line 4)",
     "output_type": "error",
     "traceback": [
      "\u001b[0;36m  File \u001b[0;32m\"<ipython-input-8-8b9dc8a38e38>\"\u001b[0;36m, line \u001b[0;32m4\u001b[0m\n\u001b[0;31m    itry += 1\u001b[0m\n\u001b[0m             ^\u001b[0m\n\u001b[0;31mSyntaxError\u001b[0m\u001b[0;31m:\u001b[0m unexpected EOF while parsing\n"
     ]
    }
   ],
   "source": [
    "cond1 = True\n",
    "itry = 0\n",
    "while itry < 10:\n",
    "    try:\n",
    "        print(itry)\n",
    "        itry += 1\n",
    "    except:\n",
    "        \"didnt get there\""
   ]
  },
  {
   "cell_type": "code",
   "execution_count": 3,
   "metadata": {
    "collapsed": true
   },
   "outputs": [],
   "source": [
    "\n",
    "    \n",
    "def good_point(polygon, vertex):\n",
    "    \"\"\"If a given vertex does not intersect a given polygon\n",
    "    return True\"\"\"\n",
    "    if polygon.intersects(vertex):\n",
    "        return False\n",
    "    else:\n",
    "        return True\n",
    "\n",
    "\n",
    "    \n",
    "def try_to_build_polygon(n):\n",
    "    \"\"\"Grow a simple polygon of n vertexes incrementally from a\n",
    "    triangle by adding individual non-intersecting vertexes. The\n",
    "    vertexes are of random, valid integer coordinate pairs, given \n",
    "    in the rows and columns lists. This may fail, and return a\n",
    "    None instead of a polygon.\"\"\"\n",
    "    rows = list(range(n))\n",
    "    columns = list(range(n))\n",
    "    poly, coordinates = starting_triangle(rows, columns)\n",
    "    try_count = 0\n",
    "    while len(coordinates) < n:\n",
    "        try_count += 1\n",
    "        #print(\"Attempting to add vertex. Try {}...\".format(try_count), end='\\r')\n",
    "        try:\n",
    "            rows, random_row = choose(rows)\n",
    "            columns, random_column = choose(columns)\n",
    "        except:\n",
    "            return None\n",
    "        vertex = geometry.point.Point(random_row, random_column)\n",
    "        if good_point(poly, vertex):\n",
    "            coordinates.append(vertex)\n",
    "            point_collection = geometry.MultiPoint(coordinates)\n",
    "            poly = point_collection.convex_hull\n",
    "            #print(\"Added a vertex. (total = {0})\".format(len(coordinates)))\n",
    "        if try_count > 100 or len(rows) == 0 and len(coordinates) < n:\n",
    "            #print('Unable to finish. Tried to find vertex {0} times.'.format(try_count))\n",
    "            return None\n",
    "        if len(coordinates) == n:\n",
    "            print(\"Successfully calculated polygon!\")\n",
    "            #for x in coordinates:\n",
    "            #    print(x)\n",
    "            return coordinates #poly\n",
    "\n",
    "def random_polygon(n, limit=100):\n",
    "    \"\"\"Try (a limited number of times, set by limit) to\n",
    "    find a simple polygon with a specific number of vertecies\"\"\"\n",
    "    attempt = 0\n",
    "    poly = None\n",
    "    while not poly:\n",
    "        poly = try_to_build_polygon(n)\n",
    "        attempt += 1\n",
    "        if attempt > limit:\n",
    "            print(\"Reached try limit. No polygon found.\")\n",
    "            break\n",
    "    return poly\n",
    "\n",
    "def point_to_tuple(point):\n",
    "    \"\"\"Convert shapley point to x,y tuple\"\"\"\n",
    "    x, y = point.xy\n",
    "    return (x[0], y[0])"
   ]
  },
  {
   "cell_type": "code",
   "execution_count": null,
   "metadata": {
    "collapsed": true
   },
   "outputs": [],
   "source": [
    "poly = random_polygon(n=15, limit = 220)\n",
    "#if poly:\n",
    "#    print(\"Number of vertices = {0}\".format(len(poly.boundary.coords.xy[0]) -1 ))\n",
    "#    print('Area = {0} units'.format(poly.area))\n",
    "#    print('x-coordinates',poly.boundary.coords.xy[0])\n",
    "#    print('y-coordinates',poly.boundary.coords.xy[0])\n",
    "poly"
   ]
  }
 ],
 "metadata": {
  "anaconda-cloud": {},
  "kernelspec": {
   "display_name": "Python [conda root]",
   "language": "python",
   "name": "conda-root-py"
  },
  "language_info": {
   "codemirror_mode": {
    "name": "ipython",
    "version": 3
   },
   "file_extension": ".py",
   "mimetype": "text/x-python",
   "name": "python",
   "nbconvert_exporter": "python",
   "pygments_lexer": "ipython3",
   "version": "3.5.2"
  }
 },
 "nbformat": 4,
 "nbformat_minor": 2
}
