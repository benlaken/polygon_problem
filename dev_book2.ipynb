{
 "cells": [
  {
   "cell_type": "markdown",
   "metadata": {},
   "source": [
    "## My algorithm\n",
    "\n",
    "1. make the smallest valid polygon (a triangle)\n",
    "2. randomly draw a valid point (x,y) position from combination of possible x, y lists\n",
    "3. if the random vertex is not intersecting with the original polygon:\n",
    "    * iterate over the list of vertexe's in the original polygon, and see if there is a location it can be placed in the order, which will create a simple polygon (with more sides). If so, place it.\n",
    "4. repeat step 3 until you have reached a desired number of vertex's in the polygon (or until a try limit is reached).\n",
    "\n",
    "5. Step 3 will have to be extended with logic to test the linear slopes between vertex's also, to ensure no repeated slope is added...\n",
    "\n",
    "Note, valid simple polygons could be made from points which intersect. This is probably key to making the smallest possible polygons actually... \n",
    "\n",
    "* No repeating points in columns, rows, or angles \n",
    "\n",
    "`n = 5\n",
    "rows = list(range(n))\n",
    "columns = list(range(n))`\n",
    "\n",
    "* Create coordinates for a starting polygon (a triangle)\n",
    "`cs, rows, columns = random_triangle(rows, columns)`\n",
    "\n",
    "* Check slopes between given coordinates do not repeat\n",
    "`check_slopes(cs)`\n",
    "\n",
    "* choose random vertex in n x n and see if it can be added between any coordinates to make a simple polygon\n",
    "\n",
    "* ensure no duplicate slopes: if so, throw away last change, and try a new random vertex.\n",
    "\n",
    "* stop when you have reached vertex number = n\n",
    "\n",
    "* find area of final shape"
   ]
  },
  {
   "cell_type": "code",
   "execution_count": null,
   "metadata": {
    "collapsed": true
   },
   "outputs": [],
   "source": [
    "import copy\n",
    "import numpy as np\n",
    "from random import choice\n",
    "import shapely.geometry as geometry\n",
    "#import geopandas as gpd\n",
    "#import matplotlib.pyplot as plt\n",
    "%matplotlib inline"
   ]
  },
  {
   "cell_type": "code",
   "execution_count": null,
   "metadata": {
    "collapsed": false
   },
   "outputs": [],
   "source": [
    "def random_vertex(rows, columns):\n",
    "    \"\"\"Return a random vertex from an avaiable list of choices,\n",
    "    and, after selecting one, remove it from future selection.\"\"\"\n",
    "    random_row = choice(rows)\n",
    "    tmp_rows = copy.deepcopy(rows) \n",
    "    tmp_rows.remove(random_row)\n",
    "    random_column = choice(columns)\n",
    "    tmp_columns = copy.deepcopy(columns)\n",
    "    tmp_columns.remove(random_column)\n",
    "    return (random_row, random_column), tmp_rows, tmp_columns\n",
    "\n",
    "\n",
    "def random_triangle(rows, columns):\n",
    "    \"\"\"Obtain coordinates for a starting shape from a grid of n x n,\n",
    "    for the simplest valid ploygon: a triangle\"\"\"\n",
    "    area = 0.0\n",
    "    i = 0\n",
    "    while area <= 0.0:\n",
    "        i += 1\n",
    "        if i > 10:\n",
    "            raise AssertionError(\"Halted as I couldn't find valid triangle in 10 attempts.\")\n",
    "        coordinates = []\n",
    "        while len(coordinates) < 3:\n",
    "            vertex, rows, columns = random_vertex(rows, columns)\n",
    "            coordinates.append(vertex)\n",
    "            coordinates = list(set(coordinates)) # Ensure unique points only\n",
    "        tmp_poly = geometry.Polygon(coordinates)\n",
    "        area = tmp_poly.area\n",
    "    return coordinates, rows, columns\n",
    "\n",
    "\n",
    "def slope_of_vertexes(vertex1, vertex2):\n",
    "    \"\"\"Slope between two xy pairs, calculated as y2-y1/x2-x1\"\"\"\n",
    "    try:\n",
    "        slope = (vertex2[1] - vertex1[1])/(vertex2[0] - vertex1[0])\n",
    "    except ZeroDivisionError:\n",
    "        slope = 0.0\n",
    "    #print(\"Slope between {0} and {1} is {2}\".format(vertex1, vertex2, slope))\n",
    "    return slope\n",
    "\n",
    "\n",
    "def check_slopes(coordinates):\n",
    "    \"\"\"Return True if the slopes calculated from a given list of ordered coordinates\n",
    "    contain no repeats, otherwise return false.\"\"\"\n",
    "    slope_list = []\n",
    "    for i, vertex in enumerate(coordinates):\n",
    "        #vertex1 = starting_triangle[i-1]\n",
    "        slope_list.append(slope_of_vertexes(coordinates[i-1] ,vertex))\n",
    "    assert len(coordinates) == len(slope_list), \"slopes were not equal to coordinates\"\n",
    "    if len(set(slope_list)) < len(slope_list):\n",
    "        #print(\"Repeated angle present in polygon\")\n",
    "        return False\n",
    "    else:\n",
    "        #print(\"Valid: No repeated angles in polygon\")\n",
    "        return True"
   ]
  },
  {
   "cell_type": "code",
   "execution_count": null,
   "metadata": {
    "collapsed": false
   },
   "outputs": [],
   "source": [
    "# n = 5\n",
    "# rows = list(range(n))\n",
    "# columns = list(range(n))\n",
    "\n",
    "# cs, rows, columns = random_triangle(rows, columns)\n",
    "# p = geometry.Polygon(cs)\n",
    "# print(\"Polygon area: \", p.area)\n",
    "# print(\"Good angles? \", check_slopes(cs))\n",
    "# p\n"
   ]
  },
  {
   "cell_type": "code",
   "execution_count": null,
   "metadata": {
    "collapsed": false
   },
   "outputs": [],
   "source": [
    "def grow_a_polygon(n, print_status=False):\n",
    "    \"\"\"Note, no point keeping track of attempted vertexs, because as the\n",
    "    shape develops, a previously invalid vertex may become valid again.\n",
    "    Only worth keeping track of last tried vertex?\"\"\"\n",
    "    rows = list(range(1, n+1))\n",
    "    columns = list(range(1, n+1))\n",
    "    if print_status:\n",
    "        print('row, col check:', len(rows), len(columns))\n",
    "        print(\"rows:\", rows)\n",
    "        print(\"columns:\", columns)\n",
    "    # Try and draw a valid triangle to start from\n",
    "    coordinates = None\n",
    "    kk = 0\n",
    "    while not coordinates:\n",
    "        try:\n",
    "            coordinates, rows, columns = random_triangle(rows, columns)\n",
    "        except:\n",
    "            kk += 1\n",
    "            if kk > 10:\n",
    "                raise AttributeError(\"Unable to find a triangle in 10 attempts\")\n",
    "    if print_status:\n",
    "        print('row, col check:', len(rows), len(columns))\n",
    "        print(\"rows:\", rows)\n",
    "        print(\"columns:\", columns)\n",
    "    jj = 0\n",
    "    while len(coordinates) < n:\n",
    "        if print_status:\n",
    "            print(\"\\nTop of while head:\")\n",
    "            print(coordinates)\n",
    "        jj += 1\n",
    "        if jj > 20:\n",
    "            if print_status:\n",
    "                print(\"Not finished in 20 rolls\")\n",
    "            return None\n",
    "        if print_status:\n",
    "            print('poly size:',len(coordinates))\n",
    "        tmp_vertex, tmp_rows, tmp_columns = random_vertex(rows, columns)\n",
    "        if print_status:\n",
    "            print('rows left:',rows,'\\n','columns left:',columns)\n",
    "            print('   trying,', tmp_vertex)\n",
    "        valid_shape = False\n",
    "        no_slope_repeats = False\n",
    "        shape_found = False\n",
    "        i = 0\n",
    "        while not shape_found:\n",
    "            if print_status:\n",
    "                print(\"Shape found? \", shape_found)\n",
    "                print(\"Trying to place vertex. Attempt {0} of {1}\".format(i, len(coordinates)))\n",
    "            tmp_coordinates = copy.deepcopy(coordinates)\n",
    "            tmp_coordinates.insert(i, tmp_vertex)\n",
    "            tmp_poly = geometry.Polygon(tmp_coordinates)\n",
    "            is_valid_shape = tmp_poly.is_valid \n",
    "            no_slope_repeats = check_slopes(tmp_coordinates)\n",
    "            if is_valid_shape and no_slope_repeats:\n",
    "                if print_status:\n",
    "                    print(\"Valid new shape - growing polygon!\")\n",
    "                rows = copy.deepcopy(tmp_rows)\n",
    "                columns = copy.deepcopy(tmp_columns)\n",
    "                coordinates = copy.deepcopy(tmp_coordinates)\n",
    "                shape_found = True\n",
    "            if i > len(coordinates):\n",
    "                if print_status:\n",
    "                    print(\"No valid shape could be made from \", tmp_vertex)\n",
    "                shape_found = True # Bail out of while loop\n",
    "            else:\n",
    "                i += 1\n",
    "    return coordinates"
   ]
  },
  {
   "cell_type": "code",
   "execution_count": null,
   "metadata": {
    "collapsed": false,
    "scrolled": false
   },
   "outputs": [],
   "source": [
    "cs = None\n",
    "n = 23\n",
    "while not cs:\n",
    "    cs = grow_a_polygon(n, print_status=False)\n",
    "    \n",
    "if cs:\n",
    "    print(\"Good slopes?\", check_slopes(cs))\n",
    "    poly = geometry.Polygon(cs)\n",
    "    print(\"Area:\", poly.area)\n",
    "    poly\n",
    "else:\n",
    "    print(\"Polygon not created\")\n",
    "poly"
   ]
  },
  {
   "cell_type": "code",
   "execution_count": null,
   "metadata": {
    "collapsed": false
   },
   "outputs": [],
   "source": [
    "print(cs)"
   ]
  },
  {
   "cell_type": "code",
   "execution_count": null,
   "metadata": {
    "collapsed": false
   },
   "outputs": [],
   "source": []
  },
  {
   "cell_type": "code",
   "execution_count": null,
   "metadata": {
    "collapsed": true
   },
   "outputs": [],
   "source": []
  },
  {
   "cell_type": "code",
   "execution_count": null,
   "metadata": {
    "collapsed": false
   },
   "outputs": [],
   "source": []
  },
  {
   "cell_type": "code",
   "execution_count": null,
   "metadata": {
    "collapsed": true
   },
   "outputs": [],
   "source": []
  }
 ],
 "metadata": {
  "anaconda-cloud": {},
  "kernelspec": {
   "display_name": "Python [conda root]",
   "language": "python",
   "name": "conda-root-py"
  },
  "language_info": {
   "codemirror_mode": {
    "name": "ipython",
    "version": 3
   },
   "file_extension": ".py",
   "mimetype": "text/x-python",
   "name": "python",
   "nbconvert_exporter": "python",
   "pygments_lexer": "ipython3",
   "version": "3.5.2"
  }
 },
 "nbformat": 4,
 "nbformat_minor": 2
}
