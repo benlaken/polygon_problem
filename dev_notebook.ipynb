{
 "cells": [
  {
   "cell_type": "markdown",
   "metadata": {},
   "source": [
    "###  Attempting to solve a n-p complete problem involving simple polygons\n",
    "\n",
    "[Problem description](http://azspcs.com/Contest/PolygonalAreas)\n",
    "\n",
    "#### Step 1. Check a Polygon is valid \n",
    "\n",
    "* No vertices should occupy the same column or row as another\n",
    "* No two sides of the polygon can have the same slope\n",
    "* No two sides can intersect, except at a shared vertex (i.e. a simple polygon)\n",
    "\n",
    "\n",
    "#### Step 2. Create random valid polygons \n",
    "\n",
    "Existing resources [here](http://jeffe.cs.illinois.edu/open/randompoly.html), [here](http://www.cosy.sbg.ac.at/~held/projects/rpg/rpg.html),  and [stack overflow](http://stackoverflow.com/questions/8997099/algorithm-to-generate-random-2d-polygon)\n",
    "\n",
    "* Need to find largest area polygons and smallest area polygons\n",
    "* This will take some thinking to avoid self intersecting polygons...\n",
    "* possibly construct polygons from smaller (triangle) polygons to avoid self intersect?\n",
    "* Or find a way to re-order the vertexe's to create a non-self-intersecting polygon?\n",
    "* Or perhaps break grid into smaller quadrants instead of allowing random points from any area?\n",
    "* use linregress to identify slope between two adjacent vertices and make a list of slopes\n",
    "* convex hull method info [here](http://bl.ocks.org/mbostock/4341699)\n",
    "\n",
    "**Maybe the best option is like [this](http://blog.thehumangeo.com/2014/05/12/drawing-boundaries-in-python/): place random points on the grid, make a delaney triangulation, calculate an updating boundary for each new point added, when the boundary reaches n vertexes, stop adding points. Then, later tweak the way I add points to try and optimise the polygon shapes for size. **\n",
    "\n",
    "#### Step 3. Try to beat the random draws\n",
    "\n",
    "* Start by trying a greedy algorithm, trying to optimise each vertex's placement in relation to a center point of the grid (either as close as possible given the rules, or as far as possible)\n",
    "\n",
    "* Assuming a larger polygon must be made from an intermediatly large polygoin. (Should test this assumption) - If true, then in cases where vertexs's can be placed equidistant from the centrum, recursivley look for optimum area polygon to proceede from. "
   ]
  },
  {
   "cell_type": "code",
   "execution_count": null,
   "metadata": {
    "collapsed": true
   },
   "outputs": [],
   "source": [
    "import numpy as np\n",
    "from random import choice\n",
    "from shapely.geometry import Polygon\n",
    "#import shapely"
   ]
  },
  {
   "cell_type": "code",
   "execution_count": null,
   "metadata": {
    "collapsed": false
   },
   "outputs": [],
   "source": []
  },
  {
   "cell_type": "code",
   "execution_count": null,
   "metadata": {
    "collapsed": true
   },
   "outputs": [],
   "source": [
    "def choose(input_list):\n",
    "    \"\"\"Have to write function like this due to a scope bug in pop/remove\"\"\"\n",
    "    selected = choice(input_list)\n",
    "    input_list.remove(selected)\n",
    "    return input_list, selected\n",
    "\n",
    "def random_polygon(n):\n",
    "    \"\"\"Return a random polygon of n vertices in a grid of n x n\n",
    "    This polygon has no rules and can be complex (self intersecting).\n",
    "    \"\"\"\n",
    "    rows = list(range(n))\n",
    "    columns = list(range(n))\n",
    "    bigest = None\n",
    "    coordinates = []\n",
    "    while len(rows) > 0:\n",
    "        rows, random_row = choose(rows)\n",
    "        columns, random_column = choose(columns)\n",
    "        vertex = (random_row, random_column)\n",
    "        coordinates.append(vertex)\n",
    "    return Polygon(coordinates)\n",
    "    "
   ]
  },
  {
   "cell_type": "code",
   "execution_count": null,
   "metadata": {
    "collapsed": false
   },
   "outputs": [],
   "source": [
    "n = 5\n",
    "polygon = random_polygon(n)\n",
    "if not polygon.is_valid:\n",
    "    print(\"Invalid polygon\")\n",
    "else:\n",
    "    print(\"Polygon area: \", polygon.area)\n",
    "polygon"
   ]
  },
  {
   "cell_type": "code",
   "execution_count": null,
   "metadata": {
    "collapsed": false
   },
   "outputs": [],
   "source": [
    "# Could try to make a simple polygon like this ... but it isnt a good idea...\n",
    "tmp = polygon.simplify(tolerance=1, preserve_topology=False)\n",
    "tmp"
   ]
  },
  {
   "cell_type": "code",
   "execution_count": null,
   "metadata": {
    "collapsed": true
   },
   "outputs": [],
   "source": [
    "# Better to write a function that makes a polygon semi-randomly.\n",
    "# Take a random start point, and then increment "
   ]
  },
  {
   "cell_type": "code",
   "execution_count": null,
   "metadata": {
    "collapsed": false
   },
   "outputs": [],
   "source": [
    "polygon.bounds"
   ]
  },
  {
   "cell_type": "code",
   "execution_count": null,
   "metadata": {
    "collapsed": false
   },
   "outputs": [],
   "source": [
    "5 * 5"
   ]
  },
  {
   "cell_type": "code",
   "execution_count": null,
   "metadata": {
    "collapsed": true
   },
   "outputs": [],
   "source": []
  },
  {
   "cell_type": "code",
   "execution_count": null,
   "metadata": {
    "collapsed": true
   },
   "outputs": [],
   "source": []
  },
  {
   "cell_type": "code",
   "execution_count": null,
   "metadata": {
    "collapsed": true
   },
   "outputs": [],
   "source": []
  },
  {
   "cell_type": "code",
   "execution_count": null,
   "metadata": {
    "collapsed": true
   },
   "outputs": [],
   "source": []
  },
  {
   "cell_type": "code",
   "execution_count": null,
   "metadata": {
    "collapsed": false
   },
   "outputs": [],
   "source": [
    "tmp.boundary.coords.xy"
   ]
  },
  {
   "cell_type": "code",
   "execution_count": null,
   "metadata": {
    "collapsed": false
   },
   "outputs": [],
   "source": [
    "polygon.boundary.coords.xy"
   ]
  },
  {
   "cell_type": "code",
   "execution_count": null,
   "metadata": {
    "collapsed": false
   },
   "outputs": [],
   "source": [
    "import math, random"
   ]
  },
  {
   "cell_type": "code",
   "execution_count": null,
   "metadata": {
    "collapsed": false
   },
   "outputs": [],
   "source": [
    "def generatePolygon( ctrX, ctrY, aveRadius, irregularity, spikeyness, numVerts ) :\n",
    "    '''Start with the centre of the polygon at ctrX, ctrY, \n",
    "    then creates the polygon by sampling points on a circle around the centre. \n",
    "    Randon noise is added by varying the angular spacing between sequential points,\n",
    "    and by varying the radial distance of each point from the centre.\n",
    "\n",
    "    Params:\n",
    "    ctrX, ctrY - coordinates of the \"centre\" of the polygon\n",
    "    aveRadius - in px, the average radius of this polygon, this roughly controls how large the polygon is, really only useful for order of magnitude.\n",
    "    irregularity - [0,1] indicating how much variance there is in the angular spacing of vertices. [0,1] will map to [0, 2pi/numberOfVerts]\n",
    "    spikeyness - [0,1] indicating how much variance there is in each vertex from the circle of radius aveRadius. [0,1] will map to [0, aveRadius]\n",
    "    numVerts - self-explanatory\n",
    "\n",
    "    Returns a list of vertices, in CCW order.\n",
    "    '''\n",
    "\n",
    "    irregularity = clip( irregularity, 0,1 ) * 2*math.pi / numVerts\n",
    "    spikeyness = clip( spikeyness, 0,1 ) * aveRadius\n",
    "\n",
    "    # generate n angle steps\n",
    "    angleSteps = []\n",
    "    lower = (2*math.pi / numVerts) - irregularity\n",
    "    upper = (2*math.pi / numVerts) + irregularity\n",
    "    sum = 0\n",
    "    for i in range(numVerts) :\n",
    "        tmp = random.uniform(lower, upper)\n",
    "        angleSteps.append( tmp )\n",
    "        sum = sum + tmp\n",
    "\n",
    "    # normalize the steps so that point 0 and point n+1 are the same\n",
    "    k = sum / (2*math.pi)\n",
    "    for i in range(numVerts) :\n",
    "        angleSteps[i] = angleSteps[i] / k\n",
    "\n",
    "    # now generate the points\n",
    "    points = []\n",
    "    angle = random.uniform(0, 2*math.pi)\n",
    "    for i in range(numVerts) :\n",
    "        r_i = clip( random.gauss(aveRadius, spikeyness), 0, 2*aveRadius )\n",
    "        x = ctrX + r_i*math.cos(angle)\n",
    "        y = ctrY + r_i*math.sin(angle)\n",
    "        points.append( (int(x),int(y)) )\n",
    "\n",
    "        angle = angle + angleSteps[i]\n",
    "\n",
    "    return points\n",
    "\n",
    "def clip(x, min, max):\n",
    "    if( min > max ):\n",
    "        return x\n",
    "    elif( x < min ):\n",
    "            return min\n",
    "    elif( x > max ):\n",
    "        return max\n",
    "    else:\n",
    "        return x"
   ]
  },
  {
   "cell_type": "code",
   "execution_count": null,
   "metadata": {
    "collapsed": false
   },
   "outputs": [],
   "source": [
    "Polygon(generatePolygon(20, 20, 0.7, 1.0, 0.5, 20))"
   ]
  },
  {
   "cell_type": "markdown",
   "metadata": {},
   "source": [
    "\n",
    "\n",
    "For a convex 2D polygon (totally off the top of my head):\n",
    "\n",
    "    Generate a random radius, R\n",
    "\n",
    "    Generate N random points on the circumference of a circle of Radius R\n",
    "\n",
    "    Move around the circle and draw straight lines between adjacent points on the circle.\n",
    "\n"
   ]
  },
  {
   "cell_type": "code",
   "execution_count": null,
   "metadata": {
    "collapsed": false
   },
   "outputs": [],
   "source": [
    "n = 5\n",
    "rows = list(range(n))\n",
    "columns = list(range(n))\n",
    "center_index = int(len(rows)/2)\n",
    "print('index=',center_index, 'pos:', rows[center_index])\n",
    "\n",
    "random_angles = "
   ]
  },
  {
   "cell_type": "code",
   "execution_count": null,
   "metadata": {
    "collapsed": false
   },
   "outputs": [],
   "source": [
    "np.random"
   ]
  },
  {
   "cell_type": "code",
   "execution_count": null,
   "metadata": {
    "collapsed": true
   },
   "outputs": [],
   "source": []
  },
  {
   "cell_type": "code",
   "execution_count": null,
   "metadata": {
    "collapsed": false
   },
   "outputs": [],
   "source": [
    "function CreateRandomPoly()\n",
    "    figure();\n",
    "    colors = {'r','g','b','k'};\n",
    "    for i=1:5\n",
    "        [x,y]=CreatePoly();\n",
    "        c = colors{ mod(i-1,numel(colors))+1};\n",
    "        plotc(x,y,c);\n",
    "        hold on;\n",
    "    end        \n",
    "end\n",
    "\n",
    "function [x,y]=CreatePoly()\n",
    "    numOfPoints = randi(30);\n",
    "    theta = randi(360,[1 numOfPoints]);\n",
    "    theta = theta * pi / 180;\n",
    "    theta = sort(theta);\n",
    "    rho = randi(200,size(theta));\n",
    "    [x,y] = pol2cart(theta,rho);    \n",
    "    xCenter = randi([-1000 1000]);\n",
    "    yCenter = randi([-1000 1000]);\n",
    "    x = x + xCenter;\n",
    "    y = y + yCenter;    \n",
    "end\n",
    "\n",
    "function plotc(x,y,varargin)\n",
    "    x = [x(:) ; x(1)];\n",
    "    y = [y(:) ; y(1)];\n",
    "    plot(x,y,varargin{:})\n",
    "end"
   ]
  },
  {
   "cell_type": "markdown",
   "metadata": {
    "collapsed": false
   },
   "source": [
    "### Adapting my earlier function to use point collection and convex_hull enveolpe"
   ]
  },
  {
   "cell_type": "code",
   "execution_count": null,
   "metadata": {
    "collapsed": false
   },
   "outputs": [],
   "source": [
    "import shapely.geometry as geometry"
   ]
  },
  {
   "cell_type": "code",
   "execution_count": null,
   "metadata": {
    "collapsed": true
   },
   "outputs": [],
   "source": [
    "points = [geometry.shape(point['geometry'])\n",
    "          for point in shapefile]"
   ]
  },
  {
   "cell_type": "code",
   "execution_count": null,
   "metadata": {
    "collapsed": false
   },
   "outputs": [],
   "source": [
    "def choose(input_list):\n",
    "    \"\"\"Have to write function like this due to a scope bug in pop/remove\"\"\"\n",
    "    selected = choice(input_list)\n",
    "    input_list.remove(selected)\n",
    "    return input_list, selected\n",
    "\n",
    "def random_polygon(n):\n",
    "    \"\"\"Return a random polygon of n vertices in a grid of n x n\n",
    "    This polygon is the convex_hull of a collection of randomly placed\n",
    "    vertexes (multi-points).\n",
    "    \"\"\"\n",
    "    rows = list(range(n))\n",
    "    columns = list(range(n))\n",
    "    bigest = None\n",
    "    coordinates = []\n",
    "    while len(rows) > 0:\n",
    "        rows, random_row = choose(rows)\n",
    "        columns, random_column = choose(columns)\n",
    "        vertex = geometry.point.Point(random_row, random_column)\n",
    "        coordinates.append(vertex)\n",
    "    point_collection = geometry.MultiPoint(coordinates)\n",
    "    poly = point_collection.convex_hull\n",
    "    return poly\n",
    "    "
   ]
  },
  {
   "cell_type": "code",
   "execution_count": null,
   "metadata": {
    "collapsed": false
   },
   "outputs": [],
   "source": [
    "n = 5\n",
    "poly = random_polygon(n)\n",
    "\n",
    "print(\"N vertcies:\", len(poly.boundary.xy[0]))\n",
    "print(\"X locations\", poly.boundary.xy[0])\n",
    "print(\"Y locations\", poly.boundary.xy[1])\n",
    "\n",
    "poly"
   ]
  },
  {
   "cell_type": "markdown",
   "metadata": {},
   "source": [
    "Big problem: at small sizes n < 10, this works fine. But when trying to build large n polygons, they have very small\n",
    "number of vertexs"
   ]
  },
  {
   "cell_type": "code",
   "execution_count": null,
   "metadata": {
    "collapsed": false
   },
   "outputs": [],
   "source": []
  },
  {
   "cell_type": "code",
   "execution_count": null,
   "metadata": {
    "collapsed": true
   },
   "outputs": [],
   "source": []
  }
 ],
 "metadata": {
  "anaconda-cloud": {},
  "kernelspec": {
   "display_name": "Python [conda root]",
   "language": "python",
   "name": "conda-root-py"
  },
  "language_info": {
   "codemirror_mode": {
    "name": "ipython",
    "version": 3
   },
   "file_extension": ".py",
   "mimetype": "text/x-python",
   "name": "python",
   "nbconvert_exporter": "python",
   "pygments_lexer": "ipython3",
   "version": "3.5.2"
  }
 },
 "nbformat": 4,
 "nbformat_minor": 2
}
