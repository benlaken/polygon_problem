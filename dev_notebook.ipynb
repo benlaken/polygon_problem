{
 "cells": [
  {
   "cell_type": "markdown",
   "metadata": {},
   "source": [
    "###  Attempting to solve a n-p complete problem involving simple polygons\n",
    "\n",
    "[Problem description](http://azspcs.com/Contest/PolygonalAreas)\n",
    "\n",
    "#### Step 1. Check a Polygon is valid \n",
    "\n",
    "* No vertices should occupy the same column or row as another\n",
    "* No two sides of the polygon can have the same slope\n",
    "* No two sides can intersect, except at a shared vertex (i.e. a simple polygon)\n",
    "\n",
    "\n",
    "#### Step 2. Create random valid polygons \n",
    "\n",
    "Existing resources [here](http://jeffe.cs.illinois.edu/open/randompoly.html), [here](http://www.cosy.sbg.ac.at/~held/projects/rpg/rpg.html),  and [stack overflow](http://stackoverflow.com/questions/8997099/algorithm-to-generate-random-2d-polygon)\n",
    "\n",
    "* Need to find largest area polygons and smallest area polygons\n",
    "* This will take some thinking to avoid self intersecting polygons...\n",
    "* possibly construct polygons from smaller (triangle) polygons to avoid self intersect?\n",
    "* Or find a way to re-order the vertexe's to create a non-self-intersecting polygon?\n",
    "* Or perhaps break grid into smaller quadrants instead of allowing random points from any area?\n",
    "* use linregress to identify slope between two adjacent vertices and make a list of slopes\n",
    "* convex hull method info [here](http://bl.ocks.org/mbostock/4341699)\n",
    "\n",
    "**Maybe the best option is like [this](http://blog.thehumangeo.com/2014/05/12/drawing-boundaries-in-python/): place random points on the grid, make a delaney triangulation, calculate an updating boundary for each new point added, when the boundary reaches n vertexes, stop adding points. Then, later tweak the way I add points to try and optimise the polygon shapes for size. **\n",
    "\n",
    "#### Step 3. Try to beat the random draws\n",
    "\n",
    "* Start by trying a greedy algorithm, trying to optimise each vertex's placement in relation to a center point of the grid (either as close as possible given the rules, or as far as possible)\n",
    "\n",
    "* Assuming a larger polygon must be made from an intermediatly large polygoin. (Should test this assumption) - If true, then in cases where vertexs's can be placed equidistant from the centrum, recursivley look for optimum area polygon to proceede from. "
   ]
  },
  {
   "cell_type": "markdown",
   "metadata": {},
   "source": [
    "## My algorithm\n",
    "\n",
    "1. make the smallest valid polygon (a triangle)\n",
    "2. randomly draw a valid point (x,y) position from combination of possible x, y lists\n",
    "3. if the random vertex is not intersecting with the original polygon:\n",
    "    * iterate over the list of vertexe's in the original polygon, and see if there is a location it can be placed in the order, which will create a simple polygon (with more sides). If so, place it.\n",
    "4. repeat step 3 until you have reached a desired number of vertex's in the polygon (or until a try limit is reached).\n",
    "\n",
    "Note, valid simple polygons could be made from points which intersect. This is probably key to making the smallest possible polygons actually... \n"
   ]
  },
  {
   "cell_type": "code",
   "execution_count": null,
   "metadata": {
    "collapsed": true
   },
   "outputs": [],
   "source": [
    "import numpy as np\n",
    "from random import choice\n",
    "from shapely.geometry import Polygon\n",
    "#import shapely"
   ]
  },
  {
   "cell_type": "code",
   "execution_count": null,
   "metadata": {
    "collapsed": false
   },
   "outputs": [],
   "source": []
  },
  {
   "cell_type": "code",
   "execution_count": null,
   "metadata": {
    "collapsed": true
   },
   "outputs": [],
   "source": [
    "def choose(input_list):\n",
    "    \"\"\"Have to write function like this due to a scope bug in pop/remove\"\"\"\n",
    "    selected = choice(input_list)\n",
    "    input_list.remove(selected)\n",
    "    return input_list, selected\n",
    "\n",
    "def random_polygon(n):\n",
    "    \"\"\"Return a random polygon of n vertices in a grid of n x n\n",
    "    This polygon has no rules and can be complex (self intersecting).\n",
    "    \"\"\"\n",
    "    rows = list(range(n))\n",
    "    columns = list(range(n))\n",
    "    bigest = None\n",
    "    coordinates = []\n",
    "    while len(rows) > 0:\n",
    "        rows, random_row = choose(rows)\n",
    "        columns, random_column = choose(columns)\n",
    "        vertex = (random_row, random_column)\n",
    "        coordinates.append(vertex)\n",
    "    return Polygon(coordinates)\n",
    "    "
   ]
  },
  {
   "cell_type": "code",
   "execution_count": null,
   "metadata": {
    "collapsed": false
   },
   "outputs": [],
   "source": [
    "n = 5\n",
    "polygon = random_polygon(n)\n",
    "if not polygon.is_valid:\n",
    "    print(\"Invalid polygon\")\n",
    "else:\n",
    "    print(\"Polygon area: \", polygon.area)\n",
    "polygon"
   ]
  },
  {
   "cell_type": "code",
   "execution_count": null,
   "metadata": {
    "collapsed": false
   },
   "outputs": [],
   "source": [
    "# Could try to make a simple polygon like this ... but it isnt a good idea...\n",
    "tmp = polygon.simplify(tolerance=1, preserve_topology=False)\n",
    "tmp"
   ]
  },
  {
   "cell_type": "code",
   "execution_count": null,
   "metadata": {
    "collapsed": true
   },
   "outputs": [],
   "source": [
    "# Better to write a function that makes a polygon semi-randomly.\n",
    "# Take a random start point, and then increment "
   ]
  },
  {
   "cell_type": "code",
   "execution_count": null,
   "metadata": {
    "collapsed": false
   },
   "outputs": [],
   "source": [
    "polygon.bounds"
   ]
  },
  {
   "cell_type": "code",
   "execution_count": null,
   "metadata": {
    "collapsed": false
   },
   "outputs": [],
   "source": [
    "5 * 5"
   ]
  },
  {
   "cell_type": "code",
   "execution_count": null,
   "metadata": {
    "collapsed": true
   },
   "outputs": [],
   "source": []
  },
  {
   "cell_type": "code",
   "execution_count": null,
   "metadata": {
    "collapsed": true
   },
   "outputs": [],
   "source": []
  },
  {
   "cell_type": "code",
   "execution_count": null,
   "metadata": {
    "collapsed": true
   },
   "outputs": [],
   "source": []
  },
  {
   "cell_type": "code",
   "execution_count": null,
   "metadata": {
    "collapsed": true
   },
   "outputs": [],
   "source": []
  },
  {
   "cell_type": "code",
   "execution_count": null,
   "metadata": {
    "collapsed": false
   },
   "outputs": [],
   "source": [
    "tmp.boundary.coords.xy"
   ]
  },
  {
   "cell_type": "code",
   "execution_count": null,
   "metadata": {
    "collapsed": false
   },
   "outputs": [],
   "source": [
    "polygon.boundary.coords.xy"
   ]
  },
  {
   "cell_type": "code",
   "execution_count": null,
   "metadata": {
    "collapsed": false
   },
   "outputs": [],
   "source": [
    "import math, random"
   ]
  },
  {
   "cell_type": "code",
   "execution_count": null,
   "metadata": {
    "collapsed": false
   },
   "outputs": [],
   "source": [
    "def generatePolygon( ctrX, ctrY, aveRadius, irregularity, spikeyness, numVerts ) :\n",
    "    '''Start with the centre of the polygon at ctrX, ctrY, \n",
    "    then creates the polygon by sampling points on a circle around the centre. \n",
    "    Randon noise is added by varying the angular spacing between sequential points,\n",
    "    and by varying the radial distance of each point from the centre.\n",
    "\n",
    "    Params:\n",
    "    ctrX, ctrY - coordinates of the \"centre\" of the polygon\n",
    "    aveRadius - in px, the average radius of this polygon, this roughly controls how large the polygon is, really only useful for order of magnitude.\n",
    "    irregularity - [0,1] indicating how much variance there is in the angular spacing of vertices. [0,1] will map to [0, 2pi/numberOfVerts]\n",
    "    spikeyness - [0,1] indicating how much variance there is in each vertex from the circle of radius aveRadius. [0,1] will map to [0, aveRadius]\n",
    "    numVerts - self-explanatory\n",
    "\n",
    "    Returns a list of vertices, in CCW order.\n",
    "    '''\n",
    "\n",
    "    irregularity = clip( irregularity, 0,1 ) * 2*math.pi / numVerts\n",
    "    spikeyness = clip( spikeyness, 0,1 ) * aveRadius\n",
    "\n",
    "    # generate n angle steps\n",
    "    angleSteps = []\n",
    "    lower = (2*math.pi / numVerts) - irregularity\n",
    "    upper = (2*math.pi / numVerts) + irregularity\n",
    "    sum = 0\n",
    "    for i in range(numVerts) :\n",
    "        tmp = random.uniform(lower, upper)\n",
    "        angleSteps.append( tmp )\n",
    "        sum = sum + tmp\n",
    "\n",
    "    # normalize the steps so that point 0 and point n+1 are the same\n",
    "    k = sum / (2*math.pi)\n",
    "    for i in range(numVerts) :\n",
    "        angleSteps[i] = angleSteps[i] / k\n",
    "\n",
    "    # now generate the points\n",
    "    points = []\n",
    "    angle = random.uniform(0, 2*math.pi)\n",
    "    for i in range(numVerts) :\n",
    "        r_i = clip( random.gauss(aveRadius, spikeyness), 0, 2*aveRadius )\n",
    "        x = ctrX + r_i*math.cos(angle)\n",
    "        y = ctrY + r_i*math.sin(angle)\n",
    "        points.append( (int(x),int(y)) )\n",
    "\n",
    "        angle = angle + angleSteps[i]\n",
    "\n",
    "    return points\n",
    "\n",
    "def clip(x, min, max):\n",
    "    if( min > max ):\n",
    "        return x\n",
    "    elif( x < min ):\n",
    "            return min\n",
    "    elif( x > max ):\n",
    "        return max\n",
    "    else:\n",
    "        return x"
   ]
  },
  {
   "cell_type": "code",
   "execution_count": null,
   "metadata": {
    "collapsed": false
   },
   "outputs": [],
   "source": [
    "Polygon(generatePolygon(20, 20, 0.7, 1.0, 0.5, 20))"
   ]
  },
  {
   "cell_type": "markdown",
   "metadata": {},
   "source": [
    "\n",
    "\n",
    "For a convex 2D polygon (totally off the top of my head):\n",
    "\n",
    "    Generate a random radius, R\n",
    "\n",
    "    Generate N random points on the circumference of a circle of Radius R\n",
    "\n",
    "    Move around the circle and draw straight lines between adjacent points on the circle.\n",
    "\n"
   ]
  },
  {
   "cell_type": "code",
   "execution_count": null,
   "metadata": {
    "collapsed": false
   },
   "outputs": [],
   "source": [
    "n = 5\n",
    "rows = list(range(n))\n",
    "columns = list(range(n))\n",
    "center_index = int(len(rows)/2)\n",
    "print('index=',center_index, 'pos:', rows[center_index])\n",
    "\n",
    "random_angles = "
   ]
  },
  {
   "cell_type": "code",
   "execution_count": null,
   "metadata": {
    "collapsed": false
   },
   "outputs": [],
   "source": [
    "np.random"
   ]
  },
  {
   "cell_type": "code",
   "execution_count": null,
   "metadata": {
    "collapsed": true
   },
   "outputs": [],
   "source": []
  },
  {
   "cell_type": "code",
   "execution_count": null,
   "metadata": {
    "collapsed": false
   },
   "outputs": [],
   "source": [
    "function CreateRandomPoly()\n",
    "    figure();\n",
    "    colors = {'r','g','b','k'};\n",
    "    for i=1:5\n",
    "        [x,y]=CreatePoly();\n",
    "        c = colors{ mod(i-1,numel(colors))+1};\n",
    "        plotc(x,y,c);\n",
    "        hold on;\n",
    "    end        \n",
    "end\n",
    "\n",
    "function [x,y]=CreatePoly()\n",
    "    numOfPoints = randi(30);\n",
    "    theta = randi(360,[1 numOfPoints]);\n",
    "    theta = theta * pi / 180;\n",
    "    theta = sort(theta);\n",
    "    rho = randi(200,size(theta));\n",
    "    [x,y] = pol2cart(theta,rho);    \n",
    "    xCenter = randi([-1000 1000]);\n",
    "    yCenter = randi([-1000 1000]);\n",
    "    x = x + xCenter;\n",
    "    y = y + yCenter;    \n",
    "end\n",
    "\n",
    "function plotc(x,y,varargin)\n",
    "    x = [x(:) ; x(1)];\n",
    "    y = [y(:) ; y(1)];\n",
    "    plot(x,y,varargin{:})\n",
    "end"
   ]
  },
  {
   "cell_type": "markdown",
   "metadata": {
    "collapsed": false
   },
   "source": [
    "### Adapting my earlier function to use point collection and convex_hull enveolpe"
   ]
  },
  {
   "cell_type": "code",
   "execution_count": null,
   "metadata": {
    "collapsed": false
   },
   "outputs": [],
   "source": []
  },
  {
   "cell_type": "code",
   "execution_count": null,
   "metadata": {
    "collapsed": false
   },
   "outputs": [],
   "source": []
  },
  {
   "cell_type": "code",
   "execution_count": null,
   "metadata": {
    "collapsed": false
   },
   "outputs": [],
   "source": [
    "def choose(input_list):\n",
    "    \"\"\"Have to write function like this due to a scope bug in pop/remove\"\"\"\n",
    "    selected = choice(input_list)\n",
    "    input_list.remove(selected)\n",
    "    return input_list, selected\n",
    "\n",
    "def random_polygon(n):\n",
    "    \"\"\"Return a random polygon of n vertices in a grid of n x n\n",
    "    This polygon is the convex_hull of a collection of randomly placed\n",
    "    vertexes (multi-points).\n",
    "    \"\"\"\n",
    "    rows = list(range(n))\n",
    "    columns = list(range(n))\n",
    "    bigest = None\n",
    "    coordinates = []\n",
    "    while len(rows) > 0:\n",
    "        rows, random_row = choose(rows)\n",
    "        columns, random_column = choose(columns)\n",
    "        vertex = geometry.point.Point(random_row, random_column)\n",
    "        coordinates.append(vertex)\n",
    "    point_collection = geometry.MultiPoint(coordinates)\n",
    "    poly = point_collection.convex_hull\n",
    "    return poly\n",
    "    "
   ]
  },
  {
   "cell_type": "code",
   "execution_count": null,
   "metadata": {
    "collapsed": false
   },
   "outputs": [],
   "source": [
    "n = 5\n",
    "poly = random_polygon(n)\n",
    "\n",
    "print(\"N vertcies:\", len(poly.boundary.xy[0]))\n",
    "print(\"X locations\", poly.boundary.xy[0])\n",
    "print(\"Y locations\", poly.boundary.xy[1])\n",
    "\n",
    "poly"
   ]
  },
  {
   "cell_type": "markdown",
   "metadata": {},
   "source": [
    "## RANDOM SIMPLE POLYGONS\n",
    "\n",
    "Big problem: at small sizes n < 10, this works fine. But when trying to build large n polygons, they have very small\n",
    "number of vertexs\n",
    "\n",
    "Try a diffrent approach: start by building the smallest polygon (a triangle) and then try adding a point, one at a time, checking that it doesnt fall within the triangle (and is valid). (Divide and conquer type strategy?)"
   ]
  },
  {
   "cell_type": "code",
   "execution_count": null,
   "metadata": {
    "collapsed": false
   },
   "outputs": [],
   "source": [
    "import copy\n",
    "import numpy as np\n",
    "from random import choice\n",
    "from shapely.geometry import Polygon\n",
    "import shapely.geometry as geometry\n",
    "import geopandas as gpd\n",
    "import matplotlib.pyplot as plt\n",
    "%matplotlib inline"
   ]
  },
  {
   "cell_type": "code",
   "execution_count": null,
   "metadata": {
    "collapsed": false
   },
   "outputs": [],
   "source": [
    "def starting_triangle(rows, columns):\n",
    "    \"\"\"Obtain a valid starting triangle\"\"\"\n",
    "    triangle_area = 0\n",
    "    while triangle_area <= 0.0:\n",
    "        coordinates = []\n",
    "        while len(coordinates) < 3:\n",
    "            rows, random_row = choose(rows)\n",
    "            columns, random_column = choose(columns)\n",
    "            vertex = geometry.point.Point(random_row, random_column)\n",
    "            coordinates.append(vertex)\n",
    "        point_collection = geometry.MultiPoint(coordinates)\n",
    "        poly = point_collection.convex_hull\n",
    "        triangle_area = poly.area\n",
    "    return poly, coordinates\n",
    "    \n",
    "def good_point(polygon, vertex):\n",
    "    \"\"\"If a given vertex does not intersect a given polygon\n",
    "    return True\"\"\"\n",
    "    if polygon.intersects(vertex):\n",
    "        return False\n",
    "    else:\n",
    "        return True\n",
    "\n",
    "def choose(input_list):\n",
    "    \"\"\"Have to write function like this due to a scope bug in pop/remove\"\"\"\n",
    "    if len(input_list) == 0:\n",
    "        raise ValueError('choose() input_list was empty')\n",
    "    selected = choice(input_list)\n",
    "    input_list.remove(selected)\n",
    "    return input_list, selected\n",
    "    \n",
    "def try_to_build_polygon(n):\n",
    "    \"\"\"Grow a simple polygon of n vertexes incrementally from a\n",
    "    triangle by adding individual non-intersecting vertexes. The\n",
    "    vertexes are of random, valid integer coordinate pairs, given \n",
    "    in the rows and columns lists. This may fail, and return a\n",
    "    None instead of a polygon.\"\"\"\n",
    "    rows = list(range(n))\n",
    "    columns = list(range(n))\n",
    "    poly, coordinates = starting_triangle(rows, columns)\n",
    "    try_count = 0\n",
    "    while len(coordinates) < n:\n",
    "        try_count += 1\n",
    "        #print(\"Attempting to add vertex. Try {}...\".format(try_count), end='\\r')\n",
    "        try:\n",
    "            rows, random_row = choose(rows)\n",
    "            columns, random_column = choose(columns)\n",
    "        except:\n",
    "            return None\n",
    "        vertex = geometry.point.Point(random_row, random_column)\n",
    "        if good_point(poly, vertex):\n",
    "            coordinates.append(vertex)\n",
    "            point_collection = geometry.MultiPoint(coordinates)\n",
    "            poly = point_collection.convex_hull\n",
    "            #print(\"Added a vertex. (total = {0})\".format(len(coordinates)))\n",
    "        if try_count > 100 or len(rows) == 0 and len(coordinates) < n:\n",
    "            #print('Unable to finish. Tried to find vertex {0} times.'.format(try_count))\n",
    "            return None\n",
    "        if len(coordinates) == n:\n",
    "            print(\"Successfully calculated polygon!\")\n",
    "            #for x in coordinates:\n",
    "            #    print(x)\n",
    "            return coordinates #poly\n",
    "\n",
    "def random_polygon(n, limit=100):\n",
    "    \"\"\"Try (a limited number of times, set by limit) to\n",
    "    find a simple polygon with a specific number of vertecies\"\"\"\n",
    "    attempt = 0\n",
    "    poly = None\n",
    "    while not poly:\n",
    "        poly = try_to_build_polygon(n)\n",
    "        attempt += 1\n",
    "        if attempt > limit:\n",
    "            print(\"Reached try limit. No polygon found.\")\n",
    "            break\n",
    "    return poly\n",
    "\n",
    "def point_to_tuple(point):\n",
    "    \"\"\"Convert shapley point to x,y tuple\"\"\"\n",
    "    x, y = point.xy\n",
    "    return (x[0], y[0])"
   ]
  },
  {
   "cell_type": "code",
   "execution_count": null,
   "metadata": {
    "collapsed": false
   },
   "outputs": [],
   "source": [
    "poly = random_polygon(n=15, limit = 220)\n",
    "#if poly:\n",
    "#    print(\"Number of vertices = {0}\".format(len(poly.boundary.coords.xy[0]) -1 ))\n",
    "#    print('Area = {0} units'.format(poly.area))\n",
    "#    print('x-coordinates',poly.boundary.coords.xy[0])\n",
    "#    print('y-coordinates',poly.boundary.coords.xy[0])\n",
    "poly"
   ]
  },
  {
   "cell_type": "code",
   "execution_count": null,
   "metadata": {
    "collapsed": false
   },
   "outputs": [],
   "source": [
    "pc = geometry.MultiPoint(poly)\n",
    "pc"
   ]
  },
  {
   "cell_type": "code",
   "execution_count": null,
   "metadata": {
    "collapsed": false,
    "scrolled": true
   },
   "outputs": [],
   "source": [
    "coords = []\n",
    "for v in pc:\n",
    "    coords.append(point_to_tuple(v))\n",
    "\n",
    "# Find start point of polygon (closest to origin: 0,0)\n",
    "min_distance = pc[0].distance(geometry.Point(0,0))\n",
    "min_point = point_to_tuple(pc[0])\n",
    "for pos in pc:\n",
    "    #print(point_to_tuple(pos), pos.distance(geometry.Point(0,0)))\n",
    "    if pos.distance(geometry.Point(0,0)) < min_distance:\n",
    "        min_distance = pos.distance(geometry.Point(0,0))\n",
    "        min_point = point_to_tuple(pos)\n",
    "print('Start point of polygon')\n",
    "print(min_point, min_distance)\n",
    "\n",
    "print('before starting:', len(coords))\n",
    "rebuild_poly = [min_point] # Start of ordered polygon\n",
    "coords.remove(min_point)   # Remove it from the list of points\n",
    "\n",
    "# Find the next closest point\n",
    "while len(coords) > 0:\n",
    "    print(len(coords),'...')\n",
    "    tmp_multipoints = geometry.MultiPoint(coords) # find distances easily\n",
    "    tmp_distance_and_v = []\n",
    "    last_selected = geometry.Point(rebuild_poly[-1])\n",
    "    for vert in tmp_multipoints:\n",
    "        tmp_distance_and_v.append([vert.distance(last_selected),\n",
    "                                  point_to_tuple(vert)])\n",
    "    tmp_distance_and_v = sorted(tmp_distance_and_v)\n",
    "    if len(rebuild_poly) < 3:\n",
    "        closest_point = tmp_distance_and_v[0][1]\n",
    "        # start by building a triangle by taking the closest points\n",
    "        rebuild_poly.append(closest_point)\n",
    "        coords.remove(closest_point)\n",
    "    elif len(rebuild_poly) >= 3:\n",
    "        # after the triangle exists\n",
    "        # then check adding each new point makes a valid polygon\n",
    "        # if not, then take the next closest until a valid shape is made.\n",
    "        tmp_index = -1\n",
    "        valid = False\n",
    "        while tmp_index < len(tmp_distance_and_v)-1 and valid == False:\n",
    "            tmp_index += 1\n",
    "            print('    ',tmp_index, valid)\n",
    "            try_vertex = tmp_distance_and_v[tmp_index][1]\n",
    "            tmp_coords = copy.deepcopy(coords)\n",
    "            tmp_coords.append(try_vertex)\n",
    "            tmp_poly = geometry.Polygon(tmp_coords)\n",
    "            valid = tmp_poly.is_valid\n",
    "            print('    ',tmp_index, valid)\n",
    "        if valid == True:\n",
    "            print(\"In valid condition\")\n",
    "            # If there is a valid vertex to add then do it!\n",
    "            rebuild_poly.append(try_vertex)\n",
    "            print('before removal',len(coords))\n",
    "            coords.remove(try_vertex)\n",
    "            print('after removal', len(coords))\n",
    "        else:\n",
    "            print(\"Trapped - cant make a good polygon from these points.\")\n",
    "            break\n",
    "\n",
    "pc_ordered = geometry.MultiPoint(rebuild_poly)\n",
    "pc_ordered\n",
    "\n"
   ]
  },
  {
   "cell_type": "markdown",
   "metadata": {},
   "source": [
    "This doesnt work, need to assemble the polygon like this but at the initial point selection stage not here; I have just made this whole thing too complex..."
   ]
  },
  {
   "cell_type": "code",
   "execution_count": null,
   "metadata": {
    "collapsed": false
   },
   "outputs": [],
   "source": [
    "tmp_index = -1\n",
    "vx = False\n",
    "while tmp_index < len(tmp_distance_and_v)-1 and vx == False:\n",
    "    tmp_index += 1\n",
    "    print(tmp_index, tmp_distance_and_v[tmp_index][0], vx)\n",
    "    #if tmp_index >= 3:\n",
    "    #    vx = True\n",
    "    \n",
    "    "
   ]
  },
  {
   "cell_type": "code",
   "execution_count": null,
   "metadata": {
    "collapsed": false
   },
   "outputs": [],
   "source": [
    "coords = []\n",
    "for v in pc:\n",
    "    coords.append(point_to_tuple(v))\n",
    "\n",
    "while len(coords) > 0:\n",
    "    print('\\n',len(coords))\n",
    "    coords.remove(coords[0])\n",
    "    print(len(coords))\n",
    "\n"
   ]
  },
  {
   "cell_type": "code",
   "execution_count": null,
   "metadata": {
    "collapsed": false
   },
   "outputs": [],
   "source": [
    "x = geometry.Polygon(pc_ordered)"
   ]
  },
  {
   "cell_type": "code",
   "execution_count": null,
   "metadata": {
    "collapsed": false
   },
   "outputs": [],
   "source": [
    "if not x.is_valid:\n",
    "    print(\"This is false\")\n",
    "    t = x.is_valid"
   ]
  },
  {
   "cell_type": "code",
   "execution_count": null,
   "metadata": {
    "collapsed": false
   },
   "outputs": [],
   "source": [
    "t"
   ]
  },
  {
   "cell_type": "code",
   "execution_count": null,
   "metadata": {
    "collapsed": false
   },
   "outputs": [],
   "source": [
    "geometry.Polygon(coords)\n",
    "#geometry.Polygon(pc)"
   ]
  },
  {
   "cell_type": "code",
   "execution_count": null,
   "metadata": {
    "collapsed": false
   },
   "outputs": [],
   "source": [
    "test = geometry.Polygon(pc)"
   ]
  },
  {
   "cell_type": "code",
   "execution_count": null,
   "metadata": {
    "collapsed": true
   },
   "outputs": [],
   "source": [
    "# Find the next closest point\n",
    "#while len(coords) > 0:\n",
    "#     print(len(coords),'...')\n",
    "#     # create a mutlipoint object to find min distance from\n",
    "#     tmp_multipoints = geometry.MultiPoint(coords)\n",
    "#     # initilise from data\n",
    "#     last_selected = geometry.Point(rebuild_poly[-1])\n",
    "#     closest_dist = tmp_multipoints[0].distance(last_selected)\n",
    "#     closest_point = point_to_tuple(tmp_multipoints[0])\n",
    "#     for vert in tmp_multipoints:\n",
    "#         distance_to_last_selected = vert.distance(geometry.Point(rebuild_poly[-1]))\n",
    "#         if distance_to_last_selected < closest_dist:\n",
    "#             closest_dist = distance_to_last_selected\n",
    "#             closest_point = point_to_tuple(vert)\n",
    "#     # NEED TO CHECK HERE THAT an invalid polygon isnt being created\n",
    "#     # take closest point, check if its valid, if not, take next closest\n",
    "#     # point. (...So need to order a list of distances with xy tuples)\n",
    "#     rebuild_poly.append(closest_point)\n",
    "#     coords.remove(closest_point)"
   ]
  },
  {
   "cell_type": "code",
   "execution_count": null,
   "metadata": {
    "collapsed": false
   },
   "outputs": [],
   "source": [
    "coords = []\n",
    "for v in pc:\n",
    "    #print(v)\n",
    "    xpos = v.coords.xy[0][0]\n",
    "    ypos = v.coords.xy[1][0]\n",
    "    coords.append((xpos,ypos))"
   ]
  },
  {
   "cell_type": "code",
   "execution_count": null,
   "metadata": {
    "collapsed": false
   },
   "outputs": [],
   "source": [
    "#coords = np.array(coords)\n",
    "coords"
   ]
  },
  {
   "cell_type": "code",
   "execution_count": null,
   "metadata": {
    "collapsed": false
   },
   "outputs": [],
   "source": [
    "coords = coords.transpose()"
   ]
  },
  {
   "cell_type": "code",
   "execution_count": null,
   "metadata": {
    "collapsed": true
   },
   "outputs": [],
   "source": [
    "LineCollection?"
   ]
  },
  {
   "cell_type": "code",
   "execution_count": null,
   "metadata": {
    "collapsed": false
   },
   "outputs": [],
   "source": [
    "from matplotlib.collections import LineCollection\n",
    "for i in range(9):\n",
    "    alpha = (i+1)*.1\n",
    "    #concave_hull, edge_points = alpha_shape(new_points,\n",
    "    #                                        alpha=alpha)\n",
    "    #print concave_hull\n",
    "    edge_points = coords\n",
    "    lines = LineCollection(edge_points)\n",
    "    pl.figure(figsize=(10,10))\n",
    "    pl.title('Alpha={0} Delaunay triangulation'.format(\n",
    "        alpha))\n",
    "    pl.gca().add_collection(lines)\n",
    "    delaunay_points = np.array([point.coords[0]\n",
    "                                for point in new_points])\n",
    "    pl.plot(delaunay_points[:,0], delaunay_points[:,1],\n",
    "            'o', hold=1, color='#f16824')\n",
    "\n",
    "    _ = plot_polygon(concave_hull)\n",
    "    _ = pl.plot(x,y,'o', color='#f16824')"
   ]
  },
  {
   "cell_type": "code",
   "execution_count": null,
   "metadata": {
    "collapsed": false
   },
   "outputs": [],
   "source": [
    "# Convex hull is the smallest convex set containing all points:\n",
    "# it looses the vertexes...Need to try Delaunay triangulation"
   ]
  },
  {
   "cell_type": "code",
   "execution_count": null,
   "metadata": {
    "collapsed": false
   },
   "outputs": [],
   "source": [
    "series = []\n",
    "for point in pc:\n",
    "    print(point)\n",
    "    x, y = point.coords.xy[0], point.coords.xy[1]\n",
    "    series.append((x,y))"
   ]
  },
  {
   "cell_type": "code",
   "execution_count": null,
   "metadata": {
    "collapsed": false
   },
   "outputs": [],
   "source": [
    "a = copy(coords)"
   ]
  },
  {
   "cell_type": "code",
   "execution_count": null,
   "metadata": {
    "collapsed": false
   },
   "outputs": [],
   "source": [
    "test = Delaunay2d(series)"
   ]
  },
  {
   "cell_type": "code",
   "execution_count": null,
   "metadata": {
    "collapsed": true
   },
   "outputs": [],
   "source": [
    "import numpy\n",
    "import math\n",
    "import copy\n",
    "\n",
    "class Delaunay2d:\n",
    "\n",
    "  EPS = 1.23456789e-14\n",
    "\n",
    "  def __init__(self, points):\n",
    "\n",
    "    # data structures\n",
    "    self.points = points[:] # copy\n",
    "    self.triangles = [] # cells\n",
    "    self.edge2Triangles = {} # edge to triangle(s) map\n",
    "    self.boundaryEdges = set()\n",
    "    self.appliedBoundaryEdges = None\n",
    "    self.holes = None\n",
    "\n",
    "    \n",
    "    # compute center of gravity\n",
    "    cg = numpy.zeros((2,), numpy.float64)\n",
    "    for pt in points:\n",
    "      cg += pt\n",
    "    cg /= len(points)\n",
    "\n",
    "    # sort\n",
    "    def distanceSquare(pt):\n",
    "      d = pt - cg\n",
    "      return numpy.dot(d, d)\n",
    "    self.points.sort(key = distanceSquare)\n",
    "\n",
    "    # create first triangle, make sure we're getting a non-zero area otherwise\n",
    "    # drop the points\n",
    "    area = 0.0\n",
    "    index = 0\n",
    "    stop = False\n",
    "    while not stop and index + 2 < len(points):\n",
    "      area = self.getArea(index, index + 1, index + 2)\n",
    "      if abs(area) < self.EPS:\n",
    "        del self.points[index]\n",
    "      else:\n",
    "        stop = True\n",
    "    if index <= len(self.points) - 3:\n",
    "      tri = [index, index + 1, index + 2]\n",
    "      self.makeCounterClockwise(tri)\n",
    "      self.triangles.append(tri)\n",
    "\n",
    "      # boundary edges\n",
    "      e01 = (tri[0], tri[1])\n",
    "      self.boundaryEdges.add(e01)\n",
    "      e12 = (tri[1], tri[2])\n",
    "      self.boundaryEdges.add(e12)\n",
    "      e20 = (tri[2], tri[0])\n",
    "      self.boundaryEdges.add(e20)\n",
    "\n",
    "      e01 = self.makeKey(e01[0], e01[1])\n",
    "      self.edge2Triangles[e01] = [0,]\n",
    "\n",
    "      e12 = self.makeKey(e12[0], e12[1])\n",
    "      self.edge2Triangles[e12] = [0,]\n",
    "\n",
    "      e20 = self.makeKey(e20[0], e20[1])\n",
    "      self.edge2Triangles[e20] = [0,]\n",
    "\n",
    "    else:\n",
    "      # all the points fall on a line\n",
    "      return\n",
    "\n",
    "    # add additional points\n",
    "    for i in range(3, len(self.points)):\n",
    "      self.addPoint(i)\n",
    "\n",
    "    # remove all triangles inside holes\n",
    "    # TO DO \n",
    "\n",
    "  def getTriangles(self):\n",
    "    \"\"\"\n",
    "    @return triangles\n",
    "    \"\"\"\n",
    "    return self.triangles\n",
    "\n",
    "  def getEdges(self):\n",
    "    \"\"\"\n",
    "    @return egdes\n",
    "    \"\"\"\n",
    "    return self.edge2Triangles.keys()\n",
    "\n",
    "  def getArea(self, ip0, ip1, ip2):\n",
    "    \"\"\"\n",
    "    Compute the parallelipiped area\n",
    "    @param ip0 index of first vertex\n",
    "    @param ip1 index of second vertex\n",
    "    @param ip2 index of third vertex\n",
    "    \"\"\"\n",
    "    d1 = self.points[ip1] - self.points[ip0]\n",
    "    d2 = self.points[ip2] - self.points[ip0]\n",
    "    return (d1[0]*d2[1] - d1[1]*d2[0])\n",
    "\n",
    "  def isEdgeVisible(self, ip, edge):\n",
    "    \"\"\"\n",
    "    Return true iff the point lies to its right when the edge points down\n",
    "    @param ip point index\n",
    "    @param edge (2 point indices with orientation)\n",
    "    @return True if visible    \n",
    "    \"\"\"\n",
    "    area = self.getArea(ip, edge[0], edge[1])\n",
    "    if area < self.EPS:\n",
    "      return True\n",
    "    return False\n",
    "\n",
    "  def makeCounterClockwise(self, ips):\n",
    "    \"\"\"\n",
    "    Re-order nodes to ensure positive area (in-place operation)\n",
    "    \"\"\"\n",
    "    area = self.getArea(ips[0], ips[1], ips[2])\n",
    "    if area < -self.EPS:\n",
    "      ip1, ip2 = ips[1], ips[2]\n",
    "      # swap\n",
    "      ips[1], ips[2] = ip2, ip1\n",
    "\n",
    "  def flipOneEdge(self, edge):\n",
    "    \"\"\"\n",
    "    Flip one edge then update the data structures\n",
    "    @return set of edges to interate over at next iteration\n",
    "    \"\"\"\n",
    "\n",
    "    # start with empty set\n",
    "    res = set()\n",
    "\n",
    "    # assume edge is sorted\n",
    "    tris = self.edge2Triangles.get(edge, [])\n",
    "    if len(tris) < 2:\n",
    "        # nothing to do, just return\n",
    "        return res\n",
    "\n",
    "    iTri1, iTri2 = tris\n",
    "    tri1 = self.triangles[iTri1]\n",
    "    tri2 = self.triangles[iTri2]\n",
    "\n",
    "    # find the opposite vertices, not part of the edge\n",
    "    iOpposite1 = -1\n",
    "    iOpposite2 = -1\n",
    "    for i in range(3):\n",
    "      if not tri1[i] in edge:\n",
    "        iOpposite1 = tri1[i]\n",
    "      if not tri2[i] in edge:\n",
    "        iOpposite2 = tri2[i]\n",
    "\n",
    "    # compute the 2 angles at the opposite vertices\n",
    "    da1 = self.points[edge[0]] - self.points[iOpposite1]\n",
    "    db1 = self.points[edge[1]] - self.points[iOpposite1]\n",
    "    da2 = self.points[edge[0]] - self.points[iOpposite2]\n",
    "    db2 = self.points[edge[1]] - self.points[iOpposite2]\n",
    "    crossProd1 = self.getArea(iOpposite1, edge[0], edge[1])\n",
    "    crossProd2 = self.getArea(iOpposite2, edge[1], edge[0])\n",
    "    dotProd1 = numpy.dot(da1, db1)\n",
    "    dotProd2 = numpy.dot(da2, db2)\n",
    "    angle1 = abs(math.atan2(crossProd1, dotProd1))\n",
    "    angle2 = abs(math.atan2(crossProd2, dotProd2))\n",
    "    \n",
    "    # Delaunay's test\n",
    "    if angle1 + angle2 > math.pi*(1.0 + self.EPS):\n",
    "\n",
    "      # flip the triangles\n",
    "      #             / ^ \\                    / b \\\n",
    "      # iOpposite1 + a|b + iOpposite2  =>   + - > +\n",
    "      #             \\   /                    \\ a /\n",
    "\n",
    "      newTri1 = [iOpposite1, edge[0], iOpposite2] # triangle a\n",
    "      newTri2 = [iOpposite1, iOpposite2, edge[1]] # triangle b\n",
    "\n",
    "      # update the triangle data structure\n",
    "      self.triangles[iTri1] = newTri1\n",
    "      self.triangles[iTri2] = newTri2\n",
    "\n",
    "      # now handle the topolgy of the edges\n",
    "\n",
    "      # remove this edge\n",
    "      del self.edge2Triangles[edge]\n",
    "\n",
    "      # add new edge\n",
    "      e = self.makeKey(iOpposite1, iOpposite2)\n",
    "      self.edge2Triangles[e] = [iTri1, iTri2]\n",
    "\n",
    "      # modify two edge entries which now connect to \n",
    "      # a different triangle\n",
    "      e = self.makeKey(iOpposite1, edge[1])\n",
    "      v = self.edge2Triangles[e]\n",
    "      for i in range(len(v)):\n",
    "        if v[i] == iTri1:\n",
    "          v[i] = iTri2\n",
    "      res.add(e)\n",
    "\n",
    "      e = self.makeKey(iOpposite2, edge[0])\n",
    "      v = self.edge2Triangles[e]\n",
    "      for i in range(len(v)):\n",
    "        if v[i] == iTri2:\n",
    "          v[i] = iTri1\n",
    "      res.add(e)\n",
    "\n",
    "      # these two edges might need to be flipped at the\n",
    "      # next iteration\n",
    "      res.add(self.makeKey(iOpposite1, edge[0]))\n",
    "      res.add(self.makeKey(iOpposite2, edge[1]))\n",
    "\n",
    "    return res \n",
    "\n",
    "  def flipEdges(self):\n",
    "    \"\"\"\n",
    "    Flip edges to statisfy Delaunay's criterion\n",
    "    \"\"\"\n",
    "\n",
    "    # start with all the edges\n",
    "    edgeSet = set(self.edge2Triangles.keys())\n",
    "\n",
    "    continueFlipping = True\n",
    "\n",
    "    while continueFlipping:\n",
    "\n",
    "      #\n",
    "      # iterate until there are no more edges to flip\n",
    "      #\n",
    "\n",
    "      # collect the edges to flip\n",
    "      newEdgeSet = set()\n",
    "      for edge in edgeSet:\n",
    "        # union\n",
    "        newEdgeSet |= self.flipOneEdge(edge)\n",
    "\n",
    "      edgeSet = copy.copy(newEdgeSet)\n",
    "      continueFlipping = (len(edgeSet) > 0)\n",
    "\n",
    "  def addPoint(self, ip):\n",
    "    \"\"\"\n",
    "    Add point\n",
    "    @param ip point index\n",
    "    \"\"\"\n",
    "\n",
    "    # collection for later updates\n",
    "    boundaryEdgesToRemove = set()\n",
    "    boundaryEdgesToAdd = set()\n",
    "\n",
    "    for edge in self.boundaryEdges:\n",
    "\n",
    "      if self.isEdgeVisible(ip, edge):\n",
    "\n",
    "        # create new triangle\n",
    "        newTri = [edge[0], edge[1], ip]\n",
    "        newTri.sort()\n",
    "        self.makeCounterClockwise(newTri)\n",
    "        self.triangles.append(newTri)\n",
    "\n",
    "        # update the edge to triangle map\n",
    "        e = list(edge[:])\n",
    "        e.sort()\n",
    "        iTri = len(self.triangles) - 1 \n",
    "        self.edge2Triangles[tuple(e)].append(iTri)\n",
    "\n",
    "        # add the two boundary edges\n",
    "        e1 = [ip, edge[0]]\n",
    "        e1.sort()\n",
    "        e1 = tuple(e1)\n",
    "        e2 = [edge[1], ip]\n",
    "        e2.sort()\n",
    "        e2 = tuple(e2)\n",
    "        v1 = self.edge2Triangles.get(e1, [])\n",
    "        v1.append(iTri)\n",
    "        v2 = self.edge2Triangles.get(e2, [])\n",
    "        v2.append(iTri)\n",
    "        self.edge2Triangles[e1] = v1\n",
    "        self.edge2Triangles[e2] = v2\n",
    "\n",
    "        # keep track of the boundary edges to update\n",
    "        boundaryEdgesToRemove.add(edge)\n",
    "        boundaryEdgesToAdd.add( (edge[0], ip) )\n",
    "        boundaryEdgesToAdd.add( (ip, edge[1]) )\n",
    "\n",
    "    # update the boundary edges\n",
    "    for bedge in boundaryEdgesToRemove:\n",
    "      self.boundaryEdges.remove(bedge)\n",
    "    for bedge in boundaryEdgesToAdd:\n",
    "      bEdgeSorted = list(bedge)\n",
    "      bEdgeSorted.sort()\n",
    "      bEdgeSorted = tuple(bEdgeSorted)\n",
    "      if len(self.edge2Triangles[bEdgeSorted]) == 1:\n",
    "        # only add boundary edge if it does not appear\n",
    "        # twice in different order\n",
    "        self.boundaryEdges.add(bedge)\n",
    "\n",
    "\n",
    "    # recursively flip edges\n",
    "    flipped = True\n",
    "    while flipped:\n",
    "      flipped = self.flipEdges()\n",
    "\n",
    "  def makeKey(self, i1, i2):\n",
    "    \"\"\"\n",
    "    Make a tuple key such at i1 < i2\n",
    "    \"\"\"\n",
    "    if i1 < i2:\n",
    "      return (i1, i2)\n",
    "    return (i2, i1)"
   ]
  },
  {
   "cell_type": "code",
   "execution_count": null,
   "metadata": {
    "collapsed": true
   },
   "outputs": [],
   "source": []
  }
 ],
 "metadata": {
  "anaconda-cloud": {},
  "kernelspec": {
   "display_name": "Python [conda root]",
   "language": "python",
   "name": "conda-root-py"
  },
  "language_info": {
   "codemirror_mode": {
    "name": "ipython",
    "version": 3
   },
   "file_extension": ".py",
   "mimetype": "text/x-python",
   "name": "python",
   "nbconvert_exporter": "python",
   "pygments_lexer": "ipython3",
   "version": "3.5.2"
  }
 },
 "nbformat": 4,
 "nbformat_minor": 2
}
