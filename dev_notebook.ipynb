{
 "cells": [
  {
   "cell_type": "markdown",
   "metadata": {},
   "source": [
    "###  Attempting to solve a n-p complete problem involving polygons\n",
    "\n",
    "[Problem description](http://azspcs.com/Contest/PolygonalAreas)\n",
    "\n",
    "#### Step 1. Check a Polygon is valid \n",
    "\n",
    "* No vertices should occupy the same column or row as another\n",
    "* No two sides of the polygon can have the same slope\n",
    "* No two sides can intersect, except at a shared vertex\n",
    "\n",
    "\n",
    "#### Step 2. Create random polygons \n",
    "\n",
    "* Need to find largest area polygons and smallest area polygons\n",
    "* This will take some thinking to avoid self intersecting polygons...\n",
    "\n",
    "#### Step 3. Try to beat the random draws\n",
    "\n",
    "* Start by trying a greedy algorithm, trying to optimise each vertex's placement in relation to a center point of the grid (either as close as possible given the rules, or as far as possible)\n",
    "\n",
    "* Assuming a larger polygon must be made from an intermediatly large polygoin. (Should test this assumption) - If true, then in cases where vertexs's can be placed equidistant from the centrum, recursivley look for optimum area polygon to proceede from. "
   ]
  },
  {
   "cell_type": "code",
   "execution_count": 231,
   "metadata": {
    "collapsed": true
   },
   "outputs": [],
   "source": [
    "import numpy as np\n",
    "from random import choice\n",
    "#from shapely.geometry import Polygon\n",
    "import shapely"
   ]
  },
  {
   "cell_type": "code",
   "execution_count": 165,
   "metadata": {
    "collapsed": false
   },
   "outputs": [],
   "source": [
    "def choose(input_list):\n",
    "    \"\"\"Have to write function like this due to a scope bug in pop/remove\"\"\"\n",
    "    selected = choice(input_list)\n",
    "    input_list.remove(selected)\n",
    "    return input_list, selected"
   ]
  },
  {
   "cell_type": "code",
   "execution_count": 232,
   "metadata": {
    "collapsed": true
   },
   "outputs": [],
   "source": [
    "def random_polygon(n):\n",
    "    \"\"\"Return a random polygon of n vertices in a grid of n x n\n",
    "    This polygon has no rules and can be invalid.\n",
    "    \"\"\"\n",
    "    rows = list(range(n))\n",
    "    columns = list(range(n))\n",
    "    bigest = None\n",
    "    coordinates = []\n",
    "    while len(rows) > 0:\n",
    "        rows, random_row = choose(rows)\n",
    "        columns, random_column = choose(columns)\n",
    "        vertex = (random_row, random_column)\n",
    "        coordinates.append(vertex)\n",
    "    return shapely.geometry.Polygon(coordinates)\n",
    "    "
   ]
  },
  {
   "cell_type": "code",
   "execution_count": 276,
   "metadata": {
    "collapsed": false
   },
   "outputs": [
    {
     "name": "stderr",
     "output_type": "stream",
     "text": [
      "Self-intersection at or near point 12.675000000000001 7.5250000000000004\n",
      "Self-intersection at or near point 12.675000000000001 7.5250000000000004\n"
     ]
    },
    {
     "name": "stdout",
     "output_type": "stream",
     "text": [
      "Invalid polygon\n"
     ]
    },
    {
     "data": {
      "image/svg+xml": [
       "<svg xmlns=\"http://www.w3.org/2000/svg\" xmlns:xlink=\"http://www.w3.org/1999/xlink\" width=\"100.0\" height=\"100.0\" viewBox=\"-0.76 -0.76 20.520000000000003 20.520000000000003\" preserveAspectRatio=\"xMinYMin meet\"><g transform=\"matrix(1,0,0,-1,0,19.0)\"><path fill-rule=\"evenodd\" fill=\"#ff3333\" stroke=\"#555555\" stroke-width=\"0.41040000000000004\" opacity=\"0.6\" d=\"M 19.0,13.0 L 18.0,12.0 L 1.0,3.0 L 15.0,18.0 L 2.0,15.0 L 9.0,7.0 L 16.0,8.0 L 6.0,11.0 L 10.0,6.0 L 8.0,14.0 L 14.0,16.0 L 0.0,5.0 L 3.0,17.0 L 11.0,4.0 L 4.0,9.0 L 17.0,1.0 L 13.0,2.0 L 12.0,19.0 L 7.0,0.0 L 5.0,10.0 L 19.0,13.0 z\" /></g></svg>"
      ],
      "text/plain": [
       "<shapely.geometry.polygon.Polygon at 0x10bd27438>"
      ]
     },
     "execution_count": 276,
     "metadata": {},
     "output_type": "execute_result"
    }
   ],
   "source": [
    "n = 20\n",
    "polygon = random_polygon(n)\n",
    "if not polygon.is_valid:\n",
    "    print(\"Invalid polygon\")\n",
    "else:\n",
    "    print(\"Polygon area: \", polygon.area)\n",
    "polygon"
   ]
  },
  {
   "cell_type": "code",
   "execution_count": null,
   "metadata": {
    "collapsed": false
   },
   "outputs": [],
   "source": []
  },
  {
   "cell_type": "code",
   "execution_count": null,
   "metadata": {
    "collapsed": true
   },
   "outputs": [],
   "source": []
  },
  {
   "cell_type": "code",
   "execution_count": 225,
   "metadata": {
    "collapsed": false
   },
   "outputs": [
    {
     "name": "stdout",
     "output_type": "stream",
     "text": [
      "coordinates [(4, 1), (0, 0), (1, 2), (2, 3), (3, 4)]\n",
      "area 7.5\n",
      "Intersects self?  True\n"
     ]
    },
    {
     "data": {
      "image/svg+xml": [
       "<svg xmlns=\"http://www.w3.org/2000/svg\" xmlns:xlink=\"http://www.w3.org/1999/xlink\" width=\"100.0\" height=\"100.0\" viewBox=\"-0.16 -0.16 4.32 4.32\" preserveAspectRatio=\"xMinYMin meet\"><g transform=\"matrix(1,0,0,-1,0,4.0)\"><path fill-rule=\"evenodd\" fill=\"#66cc99\" stroke=\"#555555\" stroke-width=\"0.0864\" opacity=\"0.6\" d=\"M 4.0,1.0 L 0.0,0.0 L 1.0,2.0 L 2.0,3.0 L 3.0,4.0 L 4.0,1.0 z\" /></g></svg>"
      ],
      "text/plain": [
       "<shapely.geometry.polygon.Polygon at 0x10bd35860>"
      ]
     },
     "execution_count": 225,
     "metadata": {},
     "output_type": "execute_result"
    }
   ],
   "source": [
    "n = 5\n",
    "\n",
    "# # Set up a list of n rows and columns\n",
    "# rows = list(range(n))\n",
    "# columns = list(range(n))\n",
    "# bigest = None\n",
    "# coordinates = []\n",
    "# while len(rows) > 0:\n",
    "#     rows, random_row = choose(rows)\n",
    "#     columns, random_column = choose(columns)\n",
    "#     vertex = (random_row, random_column)\n",
    "#     coordinates.append(vertex)\n",
    "# polygon = Polygon(coordinates)\n",
    "\n",
    "\n",
    "print('area', polygon.area)\n",
    "print('Intersects self? ', polygon.is_valid)\n",
    "# Missing a test to see if the polygon has same angled sides...\n",
    "polygon"
   ]
  },
  {
   "cell_type": "code",
   "execution_count": null,
   "metadata": {
    "collapsed": false
   },
   "outputs": [],
   "source": []
  },
  {
   "cell_type": "code",
   "execution_count": null,
   "metadata": {
    "collapsed": false
   },
   "outputs": [],
   "source": []
  },
  {
   "cell_type": "code",
   "execution_count": null,
   "metadata": {
    "collapsed": false
   },
   "outputs": [],
   "source": []
  },
  {
   "cell_type": "code",
   "execution_count": null,
   "metadata": {
    "collapsed": false
   },
   "outputs": [],
   "source": []
  },
  {
   "cell_type": "code",
   "execution_count": null,
   "metadata": {
    "collapsed": false
   },
   "outputs": [],
   "source": []
  },
  {
   "cell_type": "code",
   "execution_count": null,
   "metadata": {
    "collapsed": false
   },
   "outputs": [],
   "source": []
  },
  {
   "cell_type": "code",
   "execution_count": null,
   "metadata": {
    "collapsed": true
   },
   "outputs": [],
   "source": []
  },
  {
   "cell_type": "code",
   "execution_count": null,
   "metadata": {
    "collapsed": false
   },
   "outputs": [],
   "source": []
  },
  {
   "cell_type": "code",
   "execution_count": null,
   "metadata": {
    "collapsed": false
   },
   "outputs": [],
   "source": []
  },
  {
   "cell_type": "code",
   "execution_count": null,
   "metadata": {
    "collapsed": false
   },
   "outputs": [],
   "source": []
  },
  {
   "cell_type": "code",
   "execution_count": null,
   "metadata": {
    "collapsed": false
   },
   "outputs": [],
   "source": []
  },
  {
   "cell_type": "code",
   "execution_count": null,
   "metadata": {
    "collapsed": true
   },
   "outputs": [],
   "source": []
  }
 ],
 "metadata": {
  "anaconda-cloud": {},
  "kernelspec": {
   "display_name": "Python [conda root]",
   "language": "python",
   "name": "conda-root-py"
  },
  "language_info": {
   "codemirror_mode": {
    "name": "ipython",
    "version": 3
   },
   "file_extension": ".py",
   "mimetype": "text/x-python",
   "name": "python",
   "nbconvert_exporter": "python",
   "pygments_lexer": "ipython3",
   "version": "3.5.2"
  }
 },
 "nbformat": 4,
 "nbformat_minor": 2
}
